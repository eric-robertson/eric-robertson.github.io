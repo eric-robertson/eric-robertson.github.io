{
 "cells": [
  {
   "cell_type": "markdown",
   "metadata": {},
   "source": [
    "# Imports"
   ]
  },
  {
   "cell_type": "code",
   "execution_count": 1,
   "metadata": {},
   "outputs": [],
   "source": [
    "_cache = './cache'\n",
    "_data = './data'"
   ]
  },
  {
   "cell_type": "markdown",
   "metadata": {},
   "source": [
    "## News Data"
   ]
  },
  {
   "cell_type": "code",
   "execution_count": 2,
   "metadata": {},
   "outputs": [],
   "source": [
    "from src.news import NewsDataManager"
   ]
  },
  {
   "cell_type": "code",
   "execution_count": 3,
   "metadata": {},
   "outputs": [
    {
     "name": "stdout",
     "output_type": "stream",
     "text": [
      "Read Saved Data                                                                                                     \n"
     ]
    }
   ],
   "source": [
    "newsData = NewsDataManager( _data, _cache )\n",
    "\n",
    "if ( newsData.save_exists('news') ):\n",
    "    newsData.load( 'news' )\n",
    "else:\n",
    "    newsData.process_data()"
   ]
  },
  {
   "cell_type": "code",
   "execution_count": 4,
   "metadata": {},
   "outputs": [
    {
     "data": {
      "text/html": [
       "<div>\n",
       "<style scoped>\n",
       "    .dataframe tbody tr th:only-of-type {\n",
       "        vertical-align: middle;\n",
       "    }\n",
       "\n",
       "    .dataframe tbody tr th {\n",
       "        vertical-align: top;\n",
       "    }\n",
       "\n",
       "    .dataframe thead th {\n",
       "        text-align: right;\n",
       "    }\n",
       "</style>\n",
       "<table border=\"1\" class=\"dataframe\">\n",
       "  <thead>\n",
       "    <tr style=\"text-align: right;\">\n",
       "      <th></th>\n",
       "      <th>Date</th>\n",
       "      <th>Headline</th>\n",
       "    </tr>\n",
       "  </thead>\n",
       "  <tbody>\n",
       "    <tr>\n",
       "      <th>0</th>\n",
       "      <td>2008-08-08</td>\n",
       "      <td>[georgia, down, two, russian, warplan, countri...</td>\n",
       "    </tr>\n",
       "    <tr>\n",
       "      <th>1</th>\n",
       "      <td>2008-08-08</td>\n",
       "      <td>[break, musharraf, impeach]</td>\n",
       "    </tr>\n",
       "    <tr>\n",
       "      <th>2</th>\n",
       "      <td>2008-08-08</td>\n",
       "      <td>[russia, today, column, troop, roll, south, os...</td>\n",
       "    </tr>\n",
       "    <tr>\n",
       "      <th>3</th>\n",
       "      <td>2008-08-08</td>\n",
       "      <td>[russian, tank, move, toward, capit, south, os...</td>\n",
       "    </tr>\n",
       "    <tr>\n",
       "      <th>4</th>\n",
       "      <td>2008-08-08</td>\n",
       "      <td>[afghan, children, rape, impun, UN, offici, sa...</td>\n",
       "    </tr>\n",
       "  </tbody>\n",
       "</table>\n",
       "</div>"
      ],
      "text/plain": [
       "        Date                                           Headline\n",
       "0 2008-08-08  [georgia, down, two, russian, warplan, countri...\n",
       "1 2008-08-08                        [break, musharraf, impeach]\n",
       "2 2008-08-08  [russia, today, column, troop, roll, south, os...\n",
       "3 2008-08-08  [russian, tank, move, toward, capit, south, os...\n",
       "4 2008-08-08  [afghan, children, rape, impun, UN, offici, sa..."
      ]
     },
     "execution_count": 4,
     "metadata": {},
     "output_type": "execute_result"
    }
   ],
   "source": [
    "newsData.data.head()"
   ]
  },
  {
   "cell_type": "markdown",
   "metadata": {},
   "source": [
    "## Embeddings"
   ]
  },
  {
   "cell_type": "code",
   "execution_count": 106,
   "metadata": {},
   "outputs": [],
   "source": [
    "import spacy\n",
    "import gensim \n",
    "from gensim.models import Word2Vec \n",
    "import numpy as np\n",
    "import gensim.downloader as api"
   ]
  },
  {
   "cell_type": "code",
   "execution_count": 107,
   "metadata": {},
   "outputs": [
    {
     "name": "stdout",
     "output_type": "stream",
     "text": [
      "[==================================================] 100.0% 104.8/104.8MB downloaded\n"
     ]
    }
   ],
   "source": [
    "model_glove_twitter = api.load(\"glove-twitter-25\")"
   ]
  },
  {
   "cell_type": "code",
   "execution_count": 110,
   "metadata": {},
   "outputs": [
    {
     "data": {
      "text/plain": [
       "25"
      ]
     },
     "execution_count": 110,
     "metadata": {},
     "output_type": "execute_result"
    }
   ],
   "source": [
    "encoding_size = model_glove_twitter['bob'].shape[0]\n",
    "encoding_size"
   ]
  },
  {
   "cell_type": "code",
   "execution_count": 111,
   "metadata": {},
   "outputs": [
    {
     "ename": "KeyError",
     "evalue": "\"word 'warplan' not in vocabulary\"",
     "output_type": "error",
     "traceback": [
      "\u001b[1;31m---------------------------------------------------------------------------\u001b[0m",
      "\u001b[1;31mKeyError\u001b[0m                                  Traceback (most recent call last)",
      "\u001b[1;32m<ipython-input-111-a079d017e12c>\u001b[0m in \u001b[0;36m<module>\u001b[1;34m\u001b[0m\n\u001b[0;32m     16\u001b[0m         \u001b[0mnewsData\u001b[0m\u001b[1;33m.\u001b[0m\u001b[0mload\u001b[0m\u001b[1;33m(\u001b[0m\u001b[1;34m'news+glove'\u001b[0m\u001b[1;33m)\u001b[0m\u001b[1;33m\u001b[0m\u001b[1;33m\u001b[0m\u001b[0m\n\u001b[0;32m     17\u001b[0m     \u001b[1;32melse\u001b[0m\u001b[1;33m:\u001b[0m\u001b[1;33m\u001b[0m\u001b[1;33m\u001b[0m\u001b[0m\n\u001b[1;32m---> 18\u001b[1;33m         \u001b[0mnewsData\u001b[0m\u001b[1;33m.\u001b[0m\u001b[0muse_embedding_map\u001b[0m\u001b[1;33m(\u001b[0m \u001b[0mmodel_glove_twitter\u001b[0m \u001b[1;33m)\u001b[0m\u001b[1;33m\u001b[0m\u001b[1;33m\u001b[0m\u001b[0m\n\u001b[0m\u001b[0;32m     19\u001b[0m         \u001b[0mnewsData\u001b[0m\u001b[1;33m.\u001b[0m\u001b[0msave\u001b[0m\u001b[1;33m(\u001b[0m\u001b[1;34m'news+glove'\u001b[0m\u001b[1;33m)\u001b[0m\u001b[1;33m\u001b[0m\u001b[1;33m\u001b[0m\u001b[0m\n",
      "\u001b[1;32m~\\Documents\\Projects\\School\\320\\stocks\\src\\news.py\u001b[0m in \u001b[0;36muse_embedding_map\u001b[1;34m(self, mapping)\u001b[0m\n\u001b[0;32m     83\u001b[0m                         \u001b[0mprint\u001b[0m\u001b[1;33m(\u001b[0m \u001b[1;34mf'Embedding Data . . . '\u001b[0m\u001b[1;33m,\u001b[0m \u001b[0mend\u001b[0m\u001b[1;33m=\u001b[0m\u001b[1;34m'\\r'\u001b[0m\u001b[1;33m)\u001b[0m\u001b[1;33m\u001b[0m\u001b[1;33m\u001b[0m\u001b[0m\n\u001b[0;32m     84\u001b[0m                         \u001b[1;32mreturn\u001b[0m \u001b[0mcombined\u001b[0m\u001b[1;33m\u001b[0m\u001b[1;33m\u001b[0m\u001b[0m\n\u001b[1;32m---> 85\u001b[1;33m                 \u001b[0membedding_col\u001b[0m \u001b[1;33m=\u001b[0m \u001b[0mself\u001b[0m\u001b[1;33m.\u001b[0m\u001b[0mdata\u001b[0m\u001b[1;33m.\u001b[0m\u001b[0mapply\u001b[0m\u001b[1;33m(\u001b[0m \u001b[0mdo_embedding\u001b[0m\u001b[1;33m,\u001b[0m \u001b[0maxis\u001b[0m\u001b[1;33m=\u001b[0m\u001b[1;36m1\u001b[0m \u001b[1;33m)\u001b[0m\u001b[1;33m\u001b[0m\u001b[1;33m\u001b[0m\u001b[0m\n\u001b[0m\u001b[0;32m     86\u001b[0m                 \u001b[0mself\u001b[0m\u001b[1;33m.\u001b[0m\u001b[0mdata\u001b[0m\u001b[1;33m[\u001b[0m\u001b[1;34m'Embedding'\u001b[0m\u001b[1;33m]\u001b[0m \u001b[1;33m=\u001b[0m \u001b[0membedding_col\u001b[0m\u001b[1;33m\u001b[0m\u001b[1;33m\u001b[0m\u001b[0m\n\u001b[0;32m     87\u001b[0m                 \u001b[0mprint\u001b[0m\u001b[1;33m(\u001b[0m \u001b[1;34mf'Finished Embedding Data {len(self.data)} rows'\u001b[0m\u001b[1;33m,\u001b[0m \u001b[0mend\u001b[0m\u001b[1;33m=\u001b[0m\u001b[1;34m'\\r'\u001b[0m\u001b[1;33m)\u001b[0m\u001b[1;33m\u001b[0m\u001b[1;33m\u001b[0m\u001b[0m\n",
      "\u001b[1;32m~\\.conda\\envs\\data_science\\lib\\site-packages\\pandas\\core\\frame.py\u001b[0m in \u001b[0;36mapply\u001b[1;34m(self, func, axis, raw, result_type, args, **kwds)\u001b[0m\n\u001b[0;32m   7546\u001b[0m             \u001b[0mkwds\u001b[0m\u001b[1;33m=\u001b[0m\u001b[0mkwds\u001b[0m\u001b[1;33m,\u001b[0m\u001b[1;33m\u001b[0m\u001b[1;33m\u001b[0m\u001b[0m\n\u001b[0;32m   7547\u001b[0m         )\n\u001b[1;32m-> 7548\u001b[1;33m         \u001b[1;32mreturn\u001b[0m \u001b[0mop\u001b[0m\u001b[1;33m.\u001b[0m\u001b[0mget_result\u001b[0m\u001b[1;33m(\u001b[0m\u001b[1;33m)\u001b[0m\u001b[1;33m\u001b[0m\u001b[1;33m\u001b[0m\u001b[0m\n\u001b[0m\u001b[0;32m   7549\u001b[0m \u001b[1;33m\u001b[0m\u001b[0m\n\u001b[0;32m   7550\u001b[0m     \u001b[1;32mdef\u001b[0m \u001b[0mapplymap\u001b[0m\u001b[1;33m(\u001b[0m\u001b[0mself\u001b[0m\u001b[1;33m,\u001b[0m \u001b[0mfunc\u001b[0m\u001b[1;33m)\u001b[0m \u001b[1;33m->\u001b[0m \u001b[1;34m\"DataFrame\"\u001b[0m\u001b[1;33m:\u001b[0m\u001b[1;33m\u001b[0m\u001b[1;33m\u001b[0m\u001b[0m\n",
      "\u001b[1;32m~\\.conda\\envs\\data_science\\lib\\site-packages\\pandas\\core\\apply.py\u001b[0m in \u001b[0;36mget_result\u001b[1;34m(self)\u001b[0m\n\u001b[0;32m    178\u001b[0m             \u001b[1;32mreturn\u001b[0m \u001b[0mself\u001b[0m\u001b[1;33m.\u001b[0m\u001b[0mapply_raw\u001b[0m\u001b[1;33m(\u001b[0m\u001b[1;33m)\u001b[0m\u001b[1;33m\u001b[0m\u001b[1;33m\u001b[0m\u001b[0m\n\u001b[0;32m    179\u001b[0m \u001b[1;33m\u001b[0m\u001b[0m\n\u001b[1;32m--> 180\u001b[1;33m         \u001b[1;32mreturn\u001b[0m \u001b[0mself\u001b[0m\u001b[1;33m.\u001b[0m\u001b[0mapply_standard\u001b[0m\u001b[1;33m(\u001b[0m\u001b[1;33m)\u001b[0m\u001b[1;33m\u001b[0m\u001b[1;33m\u001b[0m\u001b[0m\n\u001b[0m\u001b[0;32m    181\u001b[0m \u001b[1;33m\u001b[0m\u001b[0m\n\u001b[0;32m    182\u001b[0m     \u001b[1;32mdef\u001b[0m \u001b[0mapply_empty_result\u001b[0m\u001b[1;33m(\u001b[0m\u001b[0mself\u001b[0m\u001b[1;33m)\u001b[0m\u001b[1;33m:\u001b[0m\u001b[1;33m\u001b[0m\u001b[1;33m\u001b[0m\u001b[0m\n",
      "\u001b[1;32m~\\.conda\\envs\\data_science\\lib\\site-packages\\pandas\\core\\apply.py\u001b[0m in \u001b[0;36mapply_standard\u001b[1;34m(self)\u001b[0m\n\u001b[0;32m    269\u001b[0m \u001b[1;33m\u001b[0m\u001b[0m\n\u001b[0;32m    270\u001b[0m     \u001b[1;32mdef\u001b[0m \u001b[0mapply_standard\u001b[0m\u001b[1;33m(\u001b[0m\u001b[0mself\u001b[0m\u001b[1;33m)\u001b[0m\u001b[1;33m:\u001b[0m\u001b[1;33m\u001b[0m\u001b[1;33m\u001b[0m\u001b[0m\n\u001b[1;32m--> 271\u001b[1;33m         \u001b[0mresults\u001b[0m\u001b[1;33m,\u001b[0m \u001b[0mres_index\u001b[0m \u001b[1;33m=\u001b[0m \u001b[0mself\u001b[0m\u001b[1;33m.\u001b[0m\u001b[0mapply_series_generator\u001b[0m\u001b[1;33m(\u001b[0m\u001b[1;33m)\u001b[0m\u001b[1;33m\u001b[0m\u001b[1;33m\u001b[0m\u001b[0m\n\u001b[0m\u001b[0;32m    272\u001b[0m \u001b[1;33m\u001b[0m\u001b[0m\n\u001b[0;32m    273\u001b[0m         \u001b[1;31m# wrap results\u001b[0m\u001b[1;33m\u001b[0m\u001b[1;33m\u001b[0m\u001b[1;33m\u001b[0m\u001b[0m\n",
      "\u001b[1;32m~\\.conda\\envs\\data_science\\lib\\site-packages\\pandas\\core\\apply.py\u001b[0m in \u001b[0;36mapply_series_generator\u001b[1;34m(self)\u001b[0m\n\u001b[0;32m    298\u001b[0m                 \u001b[1;32mfor\u001b[0m \u001b[0mi\u001b[0m\u001b[1;33m,\u001b[0m \u001b[0mv\u001b[0m \u001b[1;32min\u001b[0m \u001b[0menumerate\u001b[0m\u001b[1;33m(\u001b[0m\u001b[0mseries_gen\u001b[0m\u001b[1;33m)\u001b[0m\u001b[1;33m:\u001b[0m\u001b[1;33m\u001b[0m\u001b[1;33m\u001b[0m\u001b[0m\n\u001b[0;32m    299\u001b[0m                     \u001b[1;31m# ignore SettingWithCopy here in case the user mutates\u001b[0m\u001b[1;33m\u001b[0m\u001b[1;33m\u001b[0m\u001b[1;33m\u001b[0m\u001b[0m\n\u001b[1;32m--> 300\u001b[1;33m                     \u001b[0mresults\u001b[0m\u001b[1;33m[\u001b[0m\u001b[0mi\u001b[0m\u001b[1;33m]\u001b[0m \u001b[1;33m=\u001b[0m \u001b[0mself\u001b[0m\u001b[1;33m.\u001b[0m\u001b[0mf\u001b[0m\u001b[1;33m(\u001b[0m\u001b[0mv\u001b[0m\u001b[1;33m)\u001b[0m\u001b[1;33m\u001b[0m\u001b[1;33m\u001b[0m\u001b[0m\n\u001b[0m\u001b[0;32m    301\u001b[0m                     \u001b[1;32mif\u001b[0m \u001b[0misinstance\u001b[0m\u001b[1;33m(\u001b[0m\u001b[0mresults\u001b[0m\u001b[1;33m[\u001b[0m\u001b[0mi\u001b[0m\u001b[1;33m]\u001b[0m\u001b[1;33m,\u001b[0m \u001b[0mABCSeries\u001b[0m\u001b[1;33m)\u001b[0m\u001b[1;33m:\u001b[0m\u001b[1;33m\u001b[0m\u001b[1;33m\u001b[0m\u001b[0m\n\u001b[0;32m    302\u001b[0m                         \u001b[1;31m# If we have a view on v, we need to make a copy because\u001b[0m\u001b[1;33m\u001b[0m\u001b[1;33m\u001b[0m\u001b[1;33m\u001b[0m\u001b[0m\n",
      "\u001b[1;32m~\\Documents\\Projects\\School\\320\\stocks\\src\\news.py\u001b[0m in \u001b[0;36mdo_embedding\u001b[1;34m(row)\u001b[0m\n\u001b[0;32m     79\u001b[0m                 \u001b[1;32mdef\u001b[0m \u001b[0mdo_embedding\u001b[0m \u001b[1;33m(\u001b[0m \u001b[0mrow\u001b[0m \u001b[1;33m)\u001b[0m\u001b[1;33m:\u001b[0m\u001b[1;33m\u001b[0m\u001b[1;33m\u001b[0m\u001b[0m\n\u001b[0;32m     80\u001b[0m                         \u001b[0mwords\u001b[0m \u001b[1;33m=\u001b[0m \u001b[0mrow\u001b[0m\u001b[1;33m[\u001b[0m\u001b[1;34m'Headline'\u001b[0m\u001b[1;33m]\u001b[0m\u001b[1;33m\u001b[0m\u001b[1;33m\u001b[0m\u001b[0m\n\u001b[1;32m---> 81\u001b[1;33m                         \u001b[0membedded\u001b[0m \u001b[1;33m=\u001b[0m \u001b[0mnp\u001b[0m\u001b[1;33m.\u001b[0m\u001b[0marray\u001b[0m\u001b[1;33m(\u001b[0m\u001b[1;33m[\u001b[0m \u001b[0mmapping\u001b[0m\u001b[1;33m[\u001b[0m\u001b[0mword\u001b[0m\u001b[1;33m]\u001b[0m \u001b[1;32mfor\u001b[0m \u001b[0mword\u001b[0m \u001b[1;32min\u001b[0m \u001b[0mwords\u001b[0m \u001b[1;33m]\u001b[0m\u001b[1;33m)\u001b[0m\u001b[1;33m\u001b[0m\u001b[1;33m\u001b[0m\u001b[0m\n\u001b[0m\u001b[0;32m     82\u001b[0m                         \u001b[0mcombined\u001b[0m \u001b[1;33m=\u001b[0m \u001b[0membedded\u001b[0m\u001b[1;33m.\u001b[0m\u001b[0msum\u001b[0m\u001b[1;33m(\u001b[0m\u001b[0maxis\u001b[0m\u001b[1;33m=\u001b[0m\u001b[1;36m0\u001b[0m\u001b[1;33m)\u001b[0m\u001b[1;33m/\u001b[0m\u001b[0mlen\u001b[0m\u001b[1;33m(\u001b[0m\u001b[0mwords\u001b[0m\u001b[1;33m)\u001b[0m\u001b[1;33m\u001b[0m\u001b[1;33m\u001b[0m\u001b[0m\n\u001b[0;32m     83\u001b[0m                         \u001b[0mprint\u001b[0m\u001b[1;33m(\u001b[0m \u001b[1;34mf'Embedding Data . . . '\u001b[0m\u001b[1;33m,\u001b[0m \u001b[0mend\u001b[0m\u001b[1;33m=\u001b[0m\u001b[1;34m'\\r'\u001b[0m\u001b[1;33m)\u001b[0m\u001b[1;33m\u001b[0m\u001b[1;33m\u001b[0m\u001b[0m\n",
      "\u001b[1;32m~\\Documents\\Projects\\School\\320\\stocks\\src\\news.py\u001b[0m in \u001b[0;36m<listcomp>\u001b[1;34m(.0)\u001b[0m\n\u001b[0;32m     79\u001b[0m                 \u001b[1;32mdef\u001b[0m \u001b[0mdo_embedding\u001b[0m \u001b[1;33m(\u001b[0m \u001b[0mrow\u001b[0m \u001b[1;33m)\u001b[0m\u001b[1;33m:\u001b[0m\u001b[1;33m\u001b[0m\u001b[1;33m\u001b[0m\u001b[0m\n\u001b[0;32m     80\u001b[0m                         \u001b[0mwords\u001b[0m \u001b[1;33m=\u001b[0m \u001b[0mrow\u001b[0m\u001b[1;33m[\u001b[0m\u001b[1;34m'Headline'\u001b[0m\u001b[1;33m]\u001b[0m\u001b[1;33m\u001b[0m\u001b[1;33m\u001b[0m\u001b[0m\n\u001b[1;32m---> 81\u001b[1;33m                         \u001b[0membedded\u001b[0m \u001b[1;33m=\u001b[0m \u001b[0mnp\u001b[0m\u001b[1;33m.\u001b[0m\u001b[0marray\u001b[0m\u001b[1;33m(\u001b[0m\u001b[1;33m[\u001b[0m \u001b[0mmapping\u001b[0m\u001b[1;33m[\u001b[0m\u001b[0mword\u001b[0m\u001b[1;33m]\u001b[0m \u001b[1;32mfor\u001b[0m \u001b[0mword\u001b[0m \u001b[1;32min\u001b[0m \u001b[0mwords\u001b[0m \u001b[1;33m]\u001b[0m\u001b[1;33m)\u001b[0m\u001b[1;33m\u001b[0m\u001b[1;33m\u001b[0m\u001b[0m\n\u001b[0m\u001b[0;32m     82\u001b[0m                         \u001b[0mcombined\u001b[0m \u001b[1;33m=\u001b[0m \u001b[0membedded\u001b[0m\u001b[1;33m.\u001b[0m\u001b[0msum\u001b[0m\u001b[1;33m(\u001b[0m\u001b[0maxis\u001b[0m\u001b[1;33m=\u001b[0m\u001b[1;36m0\u001b[0m\u001b[1;33m)\u001b[0m\u001b[1;33m/\u001b[0m\u001b[0mlen\u001b[0m\u001b[1;33m(\u001b[0m\u001b[0mwords\u001b[0m\u001b[1;33m)\u001b[0m\u001b[1;33m\u001b[0m\u001b[1;33m\u001b[0m\u001b[0m\n\u001b[0;32m     83\u001b[0m                         \u001b[0mprint\u001b[0m\u001b[1;33m(\u001b[0m \u001b[1;34mf'Embedding Data . . . '\u001b[0m\u001b[1;33m,\u001b[0m \u001b[0mend\u001b[0m\u001b[1;33m=\u001b[0m\u001b[1;34m'\\r'\u001b[0m\u001b[1;33m)\u001b[0m\u001b[1;33m\u001b[0m\u001b[1;33m\u001b[0m\u001b[0m\n",
      "\u001b[1;32m~\\.conda\\envs\\data_science\\lib\\site-packages\\gensim\\models\\keyedvectors.py\u001b[0m in \u001b[0;36m__getitem__\u001b[1;34m(self, entities)\u001b[0m\n\u001b[0;32m    351\u001b[0m         \u001b[1;32mif\u001b[0m \u001b[0misinstance\u001b[0m\u001b[1;33m(\u001b[0m\u001b[0mentities\u001b[0m\u001b[1;33m,\u001b[0m \u001b[0mstring_types\u001b[0m\u001b[1;33m)\u001b[0m\u001b[1;33m:\u001b[0m\u001b[1;33m\u001b[0m\u001b[1;33m\u001b[0m\u001b[0m\n\u001b[0;32m    352\u001b[0m             \u001b[1;31m# allow calls like trained_model['office'], as a shorthand for trained_model[['office']]\u001b[0m\u001b[1;33m\u001b[0m\u001b[1;33m\u001b[0m\u001b[1;33m\u001b[0m\u001b[0m\n\u001b[1;32m--> 353\u001b[1;33m             \u001b[1;32mreturn\u001b[0m \u001b[0mself\u001b[0m\u001b[1;33m.\u001b[0m\u001b[0mget_vector\u001b[0m\u001b[1;33m(\u001b[0m\u001b[0mentities\u001b[0m\u001b[1;33m)\u001b[0m\u001b[1;33m\u001b[0m\u001b[1;33m\u001b[0m\u001b[0m\n\u001b[0m\u001b[0;32m    354\u001b[0m \u001b[1;33m\u001b[0m\u001b[0m\n\u001b[0;32m    355\u001b[0m         \u001b[1;32mreturn\u001b[0m \u001b[0mvstack\u001b[0m\u001b[1;33m(\u001b[0m\u001b[1;33m[\u001b[0m\u001b[0mself\u001b[0m\u001b[1;33m.\u001b[0m\u001b[0mget_vector\u001b[0m\u001b[1;33m(\u001b[0m\u001b[0mentity\u001b[0m\u001b[1;33m)\u001b[0m \u001b[1;32mfor\u001b[0m \u001b[0mentity\u001b[0m \u001b[1;32min\u001b[0m \u001b[0mentities\u001b[0m\u001b[1;33m]\u001b[0m\u001b[1;33m)\u001b[0m\u001b[1;33m\u001b[0m\u001b[1;33m\u001b[0m\u001b[0m\n",
      "\u001b[1;32m~\\.conda\\envs\\data_science\\lib\\site-packages\\gensim\\models\\keyedvectors.py\u001b[0m in \u001b[0;36mget_vector\u001b[1;34m(self, word)\u001b[0m\n\u001b[0;32m    469\u001b[0m \u001b[1;33m\u001b[0m\u001b[0m\n\u001b[0;32m    470\u001b[0m     \u001b[1;32mdef\u001b[0m \u001b[0mget_vector\u001b[0m\u001b[1;33m(\u001b[0m\u001b[0mself\u001b[0m\u001b[1;33m,\u001b[0m \u001b[0mword\u001b[0m\u001b[1;33m)\u001b[0m\u001b[1;33m:\u001b[0m\u001b[1;33m\u001b[0m\u001b[1;33m\u001b[0m\u001b[0m\n\u001b[1;32m--> 471\u001b[1;33m         \u001b[1;32mreturn\u001b[0m \u001b[0mself\u001b[0m\u001b[1;33m.\u001b[0m\u001b[0mword_vec\u001b[0m\u001b[1;33m(\u001b[0m\u001b[0mword\u001b[0m\u001b[1;33m)\u001b[0m\u001b[1;33m\u001b[0m\u001b[1;33m\u001b[0m\u001b[0m\n\u001b[0m\u001b[0;32m    472\u001b[0m \u001b[1;33m\u001b[0m\u001b[0m\n\u001b[0;32m    473\u001b[0m     \u001b[1;32mdef\u001b[0m \u001b[0mwords_closer_than\u001b[0m\u001b[1;33m(\u001b[0m\u001b[0mself\u001b[0m\u001b[1;33m,\u001b[0m \u001b[0mw1\u001b[0m\u001b[1;33m,\u001b[0m \u001b[0mw2\u001b[0m\u001b[1;33m)\u001b[0m\u001b[1;33m:\u001b[0m\u001b[1;33m\u001b[0m\u001b[1;33m\u001b[0m\u001b[0m\n",
      "\u001b[1;32m~\\.conda\\envs\\data_science\\lib\\site-packages\\gensim\\models\\keyedvectors.py\u001b[0m in \u001b[0;36mword_vec\u001b[1;34m(self, word, use_norm)\u001b[0m\n\u001b[0;32m    466\u001b[0m             \u001b[1;32mreturn\u001b[0m \u001b[0mresult\u001b[0m\u001b[1;33m\u001b[0m\u001b[1;33m\u001b[0m\u001b[0m\n\u001b[0;32m    467\u001b[0m         \u001b[1;32melse\u001b[0m\u001b[1;33m:\u001b[0m\u001b[1;33m\u001b[0m\u001b[1;33m\u001b[0m\u001b[0m\n\u001b[1;32m--> 468\u001b[1;33m             \u001b[1;32mraise\u001b[0m \u001b[0mKeyError\u001b[0m\u001b[1;33m(\u001b[0m\u001b[1;34m\"word '%s' not in vocabulary\"\u001b[0m \u001b[1;33m%\u001b[0m \u001b[0mword\u001b[0m\u001b[1;33m)\u001b[0m\u001b[1;33m\u001b[0m\u001b[1;33m\u001b[0m\u001b[0m\n\u001b[0m\u001b[0;32m    469\u001b[0m \u001b[1;33m\u001b[0m\u001b[0m\n\u001b[0;32m    470\u001b[0m     \u001b[1;32mdef\u001b[0m \u001b[0mget_vector\u001b[0m\u001b[1;33m(\u001b[0m\u001b[0mself\u001b[0m\u001b[1;33m,\u001b[0m \u001b[0mword\u001b[0m\u001b[1;33m)\u001b[0m\u001b[1;33m:\u001b[0m\u001b[1;33m\u001b[0m\u001b[1;33m\u001b[0m\u001b[0m\n",
      "\u001b[1;31mKeyError\u001b[0m: \"word 'warplan' not in vocabulary\""
     ]
    }
   ],
   "source": [
    "create_custom = False\n",
    "\n",
    "if create_custom:\n",
    "    if ( newsData.save_exists('news+embeddings') ):\n",
    "        newsData.load('news+embeddings')\n",
    "    else:\n",
    "        # Create a word to vec encoder \n",
    "        sentences = newsData.data.Headline.values\n",
    "        news_model = Word2Vec(sentences, size=300, min_count=1)\n",
    "        # Map the embeddings onto it\n",
    "        newsData.use_embedding_map( news_model.wv, encoding_size )\n",
    "        # Save output\n",
    "        newsData.save('news+embeddings')\n",
    "else:\n",
    "    if ( newsData.save_exists('news+glove') ):\n",
    "        newsData.load('news+glove')\n",
    "    else:\n",
    "        newsData.use_embedding_map( model_glove_twitter, encoding_size )\n",
    "        newsData.save('news+glove')"
   ]
  },
  {
   "cell_type": "code",
   "execution_count": 7,
   "metadata": {},
   "outputs": [
    {
     "data": {
      "text/html": [
       "<div>\n",
       "<style scoped>\n",
       "    .dataframe tbody tr th:only-of-type {\n",
       "        vertical-align: middle;\n",
       "    }\n",
       "\n",
       "    .dataframe tbody tr th {\n",
       "        vertical-align: top;\n",
       "    }\n",
       "\n",
       "    .dataframe thead th {\n",
       "        text-align: right;\n",
       "    }\n",
       "</style>\n",
       "<table border=\"1\" class=\"dataframe\">\n",
       "  <thead>\n",
       "    <tr style=\"text-align: right;\">\n",
       "      <th></th>\n",
       "      <th>Date</th>\n",
       "      <th>Headline</th>\n",
       "      <th>Embedding</th>\n",
       "    </tr>\n",
       "  </thead>\n",
       "  <tbody>\n",
       "    <tr>\n",
       "      <th>0</th>\n",
       "      <td>2008-08-08</td>\n",
       "      <td>[georgia, down, two, russian, warplan, countri...</td>\n",
       "      <td>[0.03166535, -0.11373435, 0.16130243, 0.613904...</td>\n",
       "    </tr>\n",
       "    <tr>\n",
       "      <th>1</th>\n",
       "      <td>2008-08-08</td>\n",
       "      <td>[break, musharraf, impeach]</td>\n",
       "      <td>[-0.06930076, -0.13197942, 0.07616737, 0.27997...</td>\n",
       "    </tr>\n",
       "    <tr>\n",
       "      <th>2</th>\n",
       "      <td>2008-08-08</td>\n",
       "      <td>[russia, today, column, troop, roll, south, os...</td>\n",
       "      <td>[0.06206376, -0.085277244, 0.20672376, 0.48175...</td>\n",
       "    </tr>\n",
       "    <tr>\n",
       "      <th>3</th>\n",
       "      <td>2008-08-08</td>\n",
       "      <td>[russian, tank, move, toward, capit, south, os...</td>\n",
       "      <td>[-0.014135499, -0.07695068, 0.17176159, 0.5451...</td>\n",
       "    </tr>\n",
       "    <tr>\n",
       "      <th>4</th>\n",
       "      <td>2008-08-08</td>\n",
       "      <td>[afghan, children, rape, impun, UN, offici, sa...</td>\n",
       "      <td>[-0.23319589, -0.24008308, 0.007345368, 0.7770...</td>\n",
       "    </tr>\n",
       "  </tbody>\n",
       "</table>\n",
       "</div>"
      ],
      "text/plain": [
       "        Date                                           Headline  \\\n",
       "0 2008-08-08  [georgia, down, two, russian, warplan, countri...   \n",
       "1 2008-08-08                        [break, musharraf, impeach]   \n",
       "2 2008-08-08  [russia, today, column, troop, roll, south, os...   \n",
       "3 2008-08-08  [russian, tank, move, toward, capit, south, os...   \n",
       "4 2008-08-08  [afghan, children, rape, impun, UN, offici, sa...   \n",
       "\n",
       "                                           Embedding  \n",
       "0  [0.03166535, -0.11373435, 0.16130243, 0.613904...  \n",
       "1  [-0.06930076, -0.13197942, 0.07616737, 0.27997...  \n",
       "2  [0.06206376, -0.085277244, 0.20672376, 0.48175...  \n",
       "3  [-0.014135499, -0.07695068, 0.17176159, 0.5451...  \n",
       "4  [-0.23319589, -0.24008308, 0.007345368, 0.7770...  "
      ]
     },
     "execution_count": 7,
     "metadata": {},
     "output_type": "execute_result"
    }
   ],
   "source": [
    "newsData.data.head()"
   ]
  },
  {
   "cell_type": "markdown",
   "metadata": {},
   "source": [
    "## Stock Data"
   ]
  },
  {
   "cell_type": "code",
   "execution_count": 8,
   "metadata": {},
   "outputs": [],
   "source": [
    "from src.stocks import StockDataManager"
   ]
  },
  {
   "cell_type": "code",
   "execution_count": 9,
   "metadata": {},
   "outputs": [
    {
     "name": "stdout",
     "output_type": "stream",
     "text": [
      "Stock Data Manager\n",
      "Read Saved Data                                                                                                     \n"
     ]
    },
    {
     "data": {
      "text/html": [
       "<div>\n",
       "<style scoped>\n",
       "    .dataframe tbody tr th:only-of-type {\n",
       "        vertical-align: middle;\n",
       "    }\n",
       "\n",
       "    .dataframe tbody tr th {\n",
       "        vertical-align: top;\n",
       "    }\n",
       "\n",
       "    .dataframe thead th {\n",
       "        text-align: right;\n",
       "    }\n",
       "</style>\n",
       "<table border=\"1\" class=\"dataframe\">\n",
       "  <thead>\n",
       "    <tr style=\"text-align: right;\">\n",
       "      <th></th>\n",
       "      <th>Date</th>\n",
       "      <th>Open</th>\n",
       "      <th>High</th>\n",
       "      <th>Low</th>\n",
       "      <th>Close</th>\n",
       "      <th>Adj Close</th>\n",
       "      <th>Volume</th>\n",
       "      <th>forward_gains</th>\n",
       "      <th>backward_gains</th>\n",
       "    </tr>\n",
       "  </thead>\n",
       "  <tbody>\n",
       "    <tr>\n",
       "      <th>0</th>\n",
       "      <td>1993-01-29</td>\n",
       "      <td>43.96875</td>\n",
       "      <td>43.96875</td>\n",
       "      <td>43.75000</td>\n",
       "      <td>43.93750</td>\n",
       "      <td>26.299288</td>\n",
       "      <td>1003200</td>\n",
       "      <td>0.023610</td>\n",
       "      <td>NaN</td>\n",
       "    </tr>\n",
       "    <tr>\n",
       "      <th>1</th>\n",
       "      <td>1993-02-01</td>\n",
       "      <td>43.96875</td>\n",
       "      <td>44.25000</td>\n",
       "      <td>43.96875</td>\n",
       "      <td>44.25000</td>\n",
       "      <td>26.486324</td>\n",
       "      <td>480500</td>\n",
       "      <td>0.015983</td>\n",
       "      <td>NaN</td>\n",
       "    </tr>\n",
       "    <tr>\n",
       "      <th>2</th>\n",
       "      <td>1993-02-02</td>\n",
       "      <td>44.21875</td>\n",
       "      <td>44.37500</td>\n",
       "      <td>44.12500</td>\n",
       "      <td>44.34375</td>\n",
       "      <td>26.542448</td>\n",
       "      <td>201300</td>\n",
       "      <td>0.013898</td>\n",
       "      <td>NaN</td>\n",
       "    </tr>\n",
       "    <tr>\n",
       "      <th>3</th>\n",
       "      <td>1993-02-03</td>\n",
       "      <td>44.40625</td>\n",
       "      <td>44.84375</td>\n",
       "      <td>44.37500</td>\n",
       "      <td>44.81250</td>\n",
       "      <td>26.822998</td>\n",
       "      <td>529400</td>\n",
       "      <td>-0.003498</td>\n",
       "      <td>NaN</td>\n",
       "    </tr>\n",
       "    <tr>\n",
       "      <th>4</th>\n",
       "      <td>1993-02-04</td>\n",
       "      <td>44.96875</td>\n",
       "      <td>45.09375</td>\n",
       "      <td>44.46875</td>\n",
       "      <td>45.00000</td>\n",
       "      <td>26.935240</td>\n",
       "      <td>531500</td>\n",
       "      <td>-0.006289</td>\n",
       "      <td>0.024181</td>\n",
       "    </tr>\n",
       "  </tbody>\n",
       "</table>\n",
       "</div>"
      ],
      "text/plain": [
       "        Date      Open      High       Low     Close  Adj Close   Volume  \\\n",
       "0 1993-01-29  43.96875  43.96875  43.75000  43.93750  26.299288  1003200   \n",
       "1 1993-02-01  43.96875  44.25000  43.96875  44.25000  26.486324   480500   \n",
       "2 1993-02-02  44.21875  44.37500  44.12500  44.34375  26.542448   201300   \n",
       "3 1993-02-03  44.40625  44.84375  44.37500  44.81250  26.822998   529400   \n",
       "4 1993-02-04  44.96875  45.09375  44.46875  45.00000  26.935240   531500   \n",
       "\n",
       "   forward_gains  backward_gains  \n",
       "0       0.023610             NaN  \n",
       "1       0.015983             NaN  \n",
       "2       0.013898             NaN  \n",
       "3      -0.003498             NaN  \n",
       "4      -0.006289        0.024181  "
      ]
     },
     "execution_count": 9,
     "metadata": {},
     "output_type": "execute_result"
    }
   ],
   "source": [
    "stockData = StockDataManager( 'SPY', _data, _cache )\n",
    "stockData.data.head()"
   ]
  },
  {
   "cell_type": "markdown",
   "metadata": {},
   "source": [
    "## Merge Data"
   ]
  },
  {
   "cell_type": "code",
   "execution_count": 21,
   "metadata": {},
   "outputs": [
    {
     "data": {
      "text/html": [
       "<div>\n",
       "<style scoped>\n",
       "    .dataframe tbody tr th:only-of-type {\n",
       "        vertical-align: middle;\n",
       "    }\n",
       "\n",
       "    .dataframe tbody tr th {\n",
       "        vertical-align: top;\n",
       "    }\n",
       "\n",
       "    .dataframe thead th {\n",
       "        text-align: right;\n",
       "    }\n",
       "</style>\n",
       "<table border=\"1\" class=\"dataframe\">\n",
       "  <thead>\n",
       "    <tr style=\"text-align: right;\">\n",
       "      <th></th>\n",
       "      <th>Headline</th>\n",
       "      <th>Embedding</th>\n",
       "      <th>Open</th>\n",
       "      <th>High</th>\n",
       "      <th>Low</th>\n",
       "      <th>Close</th>\n",
       "      <th>Adj Close</th>\n",
       "      <th>Volume</th>\n",
       "      <th>forward_gains</th>\n",
       "      <th>backward_gains</th>\n",
       "    </tr>\n",
       "    <tr>\n",
       "      <th>Date</th>\n",
       "      <th></th>\n",
       "      <th></th>\n",
       "      <th></th>\n",
       "      <th></th>\n",
       "      <th></th>\n",
       "      <th></th>\n",
       "      <th></th>\n",
       "      <th></th>\n",
       "      <th></th>\n",
       "      <th></th>\n",
       "    </tr>\n",
       "  </thead>\n",
       "  <tbody>\n",
       "    <tr>\n",
       "      <th>2008-08-08</th>\n",
       "      <td>[georgia, down, two, russian, warplan, countri...</td>\n",
       "      <td>[0.03166535, -0.11373435, 0.16130243, 0.613904...</td>\n",
       "      <td>126.580002</td>\n",
       "      <td>129.929993</td>\n",
       "      <td>126.379997</td>\n",
       "      <td>129.369995</td>\n",
       "      <td>101.503098</td>\n",
       "      <td>260811700</td>\n",
       "      <td>0.001312</td>\n",
       "      <td>0.035043</td>\n",
       "    </tr>\n",
       "    <tr>\n",
       "      <th>2008-08-08</th>\n",
       "      <td>[break, musharraf, impeach]</td>\n",
       "      <td>[-0.06930076, -0.13197942, 0.07616737, 0.27997...</td>\n",
       "      <td>126.580002</td>\n",
       "      <td>129.929993</td>\n",
       "      <td>126.379997</td>\n",
       "      <td>129.369995</td>\n",
       "      <td>101.503098</td>\n",
       "      <td>260811700</td>\n",
       "      <td>0.001312</td>\n",
       "      <td>0.035043</td>\n",
       "    </tr>\n",
       "    <tr>\n",
       "      <th>2008-08-08</th>\n",
       "      <td>[russia, today, column, troop, roll, south, os...</td>\n",
       "      <td>[0.06206376, -0.085277244, 0.20672376, 0.48175...</td>\n",
       "      <td>126.580002</td>\n",
       "      <td>129.929993</td>\n",
       "      <td>126.379997</td>\n",
       "      <td>129.369995</td>\n",
       "      <td>101.503098</td>\n",
       "      <td>260811700</td>\n",
       "      <td>0.001312</td>\n",
       "      <td>0.035043</td>\n",
       "    </tr>\n",
       "    <tr>\n",
       "      <th>2008-08-08</th>\n",
       "      <td>[russian, tank, move, toward, capit, south, os...</td>\n",
       "      <td>[-0.014135499, -0.07695068, 0.17176159, 0.5451...</td>\n",
       "      <td>126.580002</td>\n",
       "      <td>129.929993</td>\n",
       "      <td>126.379997</td>\n",
       "      <td>129.369995</td>\n",
       "      <td>101.503098</td>\n",
       "      <td>260811700</td>\n",
       "      <td>0.001312</td>\n",
       "      <td>0.035043</td>\n",
       "    </tr>\n",
       "    <tr>\n",
       "      <th>2008-08-08</th>\n",
       "      <td>[afghan, children, rape, impun, UN, offici, sa...</td>\n",
       "      <td>[-0.23319589, -0.24008308, 0.007345368, 0.7770...</td>\n",
       "      <td>126.580002</td>\n",
       "      <td>129.929993</td>\n",
       "      <td>126.379997</td>\n",
       "      <td>129.369995</td>\n",
       "      <td>101.503098</td>\n",
       "      <td>260811700</td>\n",
       "      <td>0.001312</td>\n",
       "      <td>0.035043</td>\n",
       "    </tr>\n",
       "  </tbody>\n",
       "</table>\n",
       "</div>"
      ],
      "text/plain": [
       "                                                     Headline  \\\n",
       "Date                                                            \n",
       "2008-08-08  [georgia, down, two, russian, warplan, countri...   \n",
       "2008-08-08                        [break, musharraf, impeach]   \n",
       "2008-08-08  [russia, today, column, troop, roll, south, os...   \n",
       "2008-08-08  [russian, tank, move, toward, capit, south, os...   \n",
       "2008-08-08  [afghan, children, rape, impun, UN, offici, sa...   \n",
       "\n",
       "                                                    Embedding        Open  \\\n",
       "Date                                                                        \n",
       "2008-08-08  [0.03166535, -0.11373435, 0.16130243, 0.613904...  126.580002   \n",
       "2008-08-08  [-0.06930076, -0.13197942, 0.07616737, 0.27997...  126.580002   \n",
       "2008-08-08  [0.06206376, -0.085277244, 0.20672376, 0.48175...  126.580002   \n",
       "2008-08-08  [-0.014135499, -0.07695068, 0.17176159, 0.5451...  126.580002   \n",
       "2008-08-08  [-0.23319589, -0.24008308, 0.007345368, 0.7770...  126.580002   \n",
       "\n",
       "                  High         Low       Close   Adj Close     Volume  \\\n",
       "Date                                                                    \n",
       "2008-08-08  129.929993  126.379997  129.369995  101.503098  260811700   \n",
       "2008-08-08  129.929993  126.379997  129.369995  101.503098  260811700   \n",
       "2008-08-08  129.929993  126.379997  129.369995  101.503098  260811700   \n",
       "2008-08-08  129.929993  126.379997  129.369995  101.503098  260811700   \n",
       "2008-08-08  129.929993  126.379997  129.369995  101.503098  260811700   \n",
       "\n",
       "            forward_gains  backward_gains  \n",
       "Date                                       \n",
       "2008-08-08       0.001312        0.035043  \n",
       "2008-08-08       0.001312        0.035043  \n",
       "2008-08-08       0.001312        0.035043  \n",
       "2008-08-08       0.001312        0.035043  \n",
       "2008-08-08       0.001312        0.035043  "
      ]
     },
     "execution_count": 21,
     "metadata": {},
     "output_type": "execute_result"
    }
   ],
   "source": [
    "combinedData = newsData.data.set_index('Date').join( stockData.data.set_index('Date') )\n",
    "combinedData.head()"
   ]
  },
  {
   "cell_type": "code",
   "execution_count": 22,
   "metadata": {},
   "outputs": [
    {
     "data": {
      "text/html": [
       "<div>\n",
       "<style scoped>\n",
       "    .dataframe tbody tr th:only-of-type {\n",
       "        vertical-align: middle;\n",
       "    }\n",
       "\n",
       "    .dataframe tbody tr th {\n",
       "        vertical-align: top;\n",
       "    }\n",
       "\n",
       "    .dataframe thead th {\n",
       "        text-align: right;\n",
       "    }\n",
       "</style>\n",
       "<table border=\"1\" class=\"dataframe\">\n",
       "  <thead>\n",
       "    <tr style=\"text-align: right;\">\n",
       "      <th></th>\n",
       "      <th>Embedding</th>\n",
       "      <th>forward_gains</th>\n",
       "      <th>backward_gains</th>\n",
       "    </tr>\n",
       "    <tr>\n",
       "      <th>Date</th>\n",
       "      <th></th>\n",
       "      <th></th>\n",
       "      <th></th>\n",
       "    </tr>\n",
       "  </thead>\n",
       "  <tbody>\n",
       "    <tr>\n",
       "      <th>2008-08-08</th>\n",
       "      <td>[0.03166535, -0.11373435, 0.16130243, 0.613904...</td>\n",
       "      <td>0.001312</td>\n",
       "      <td>0.035043</td>\n",
       "    </tr>\n",
       "    <tr>\n",
       "      <th>2008-08-08</th>\n",
       "      <td>[-0.06930076, -0.13197942, 0.07616737, 0.27997...</td>\n",
       "      <td>0.001312</td>\n",
       "      <td>0.035043</td>\n",
       "    </tr>\n",
       "    <tr>\n",
       "      <th>2008-08-08</th>\n",
       "      <td>[0.06206376, -0.085277244, 0.20672376, 0.48175...</td>\n",
       "      <td>0.001312</td>\n",
       "      <td>0.035043</td>\n",
       "    </tr>\n",
       "    <tr>\n",
       "      <th>2008-08-08</th>\n",
       "      <td>[-0.014135499, -0.07695068, 0.17176159, 0.5451...</td>\n",
       "      <td>0.001312</td>\n",
       "      <td>0.035043</td>\n",
       "    </tr>\n",
       "    <tr>\n",
       "      <th>2008-08-08</th>\n",
       "      <td>[-0.23319589, -0.24008308, 0.007345368, 0.7770...</td>\n",
       "      <td>0.001312</td>\n",
       "      <td>0.035043</td>\n",
       "    </tr>\n",
       "  </tbody>\n",
       "</table>\n",
       "</div>"
      ],
      "text/plain": [
       "                                                    Embedding  forward_gains  \\\n",
       "Date                                                                           \n",
       "2008-08-08  [0.03166535, -0.11373435, 0.16130243, 0.613904...       0.001312   \n",
       "2008-08-08  [-0.06930076, -0.13197942, 0.07616737, 0.27997...       0.001312   \n",
       "2008-08-08  [0.06206376, -0.085277244, 0.20672376, 0.48175...       0.001312   \n",
       "2008-08-08  [-0.014135499, -0.07695068, 0.17176159, 0.5451...       0.001312   \n",
       "2008-08-08  [-0.23319589, -0.24008308, 0.007345368, 0.7770...       0.001312   \n",
       "\n",
       "            backward_gains  \n",
       "Date                        \n",
       "2008-08-08        0.035043  \n",
       "2008-08-08        0.035043  \n",
       "2008-08-08        0.035043  \n",
       "2008-08-08        0.035043  \n",
       "2008-08-08        0.035043  "
      ]
     },
     "execution_count": 22,
     "metadata": {},
     "output_type": "execute_result"
    }
   ],
   "source": [
    "combinedData = combinedData.drop(columns=['Headline', 'Open', 'High', 'Low', 'Close', 'Adj Close', 'Volume'] )\n",
    "combinedData.head()"
   ]
  },
  {
   "cell_type": "code",
   "execution_count": 23,
   "metadata": {},
   "outputs": [
    {
     "data": {
      "text/html": [
       "<div>\n",
       "<style scoped>\n",
       "    .dataframe tbody tr th:only-of-type {\n",
       "        vertical-align: middle;\n",
       "    }\n",
       "\n",
       "    .dataframe tbody tr th {\n",
       "        vertical-align: top;\n",
       "    }\n",
       "\n",
       "    .dataframe thead th {\n",
       "        text-align: right;\n",
       "    }\n",
       "</style>\n",
       "<table border=\"1\" class=\"dataframe\">\n",
       "  <thead>\n",
       "    <tr style=\"text-align: right;\">\n",
       "      <th></th>\n",
       "      <th>Embedding</th>\n",
       "      <th>forward_gains</th>\n",
       "      <th>backward_gains</th>\n",
       "    </tr>\n",
       "    <tr>\n",
       "      <th>Date</th>\n",
       "      <th></th>\n",
       "      <th></th>\n",
       "      <th></th>\n",
       "    </tr>\n",
       "  </thead>\n",
       "  <tbody>\n",
       "    <tr>\n",
       "      <th>2008-08-08</th>\n",
       "      <td>[0.03166535, -0.11373435, 0.16130243, 0.613904...</td>\n",
       "      <td>0.591182</td>\n",
       "      <td>0.596434</td>\n",
       "    </tr>\n",
       "    <tr>\n",
       "      <th>2008-08-08</th>\n",
       "      <td>[-0.06930076, -0.13197942, 0.07616737, 0.27997...</td>\n",
       "      <td>0.591182</td>\n",
       "      <td>0.596434</td>\n",
       "    </tr>\n",
       "    <tr>\n",
       "      <th>2008-08-08</th>\n",
       "      <td>[0.06206376, -0.085277244, 0.20672376, 0.48175...</td>\n",
       "      <td>0.591182</td>\n",
       "      <td>0.596434</td>\n",
       "    </tr>\n",
       "    <tr>\n",
       "      <th>2008-08-08</th>\n",
       "      <td>[-0.014135499, -0.07695068, 0.17176159, 0.5451...</td>\n",
       "      <td>0.591182</td>\n",
       "      <td>0.596434</td>\n",
       "    </tr>\n",
       "    <tr>\n",
       "      <th>2008-08-08</th>\n",
       "      <td>[-0.23319589, -0.24008308, 0.007345368, 0.7770...</td>\n",
       "      <td>0.591182</td>\n",
       "      <td>0.596434</td>\n",
       "    </tr>\n",
       "  </tbody>\n",
       "</table>\n",
       "</div>"
      ],
      "text/plain": [
       "                                                    Embedding  forward_gains  \\\n",
       "Date                                                                           \n",
       "2008-08-08  [0.03166535, -0.11373435, 0.16130243, 0.613904...       0.591182   \n",
       "2008-08-08  [-0.06930076, -0.13197942, 0.07616737, 0.27997...       0.591182   \n",
       "2008-08-08  [0.06206376, -0.085277244, 0.20672376, 0.48175...       0.591182   \n",
       "2008-08-08  [-0.014135499, -0.07695068, 0.17176159, 0.5451...       0.591182   \n",
       "2008-08-08  [-0.23319589, -0.24008308, 0.007345368, 0.7770...       0.591182   \n",
       "\n",
       "            backward_gains  \n",
       "Date                        \n",
       "2008-08-08        0.596434  \n",
       "2008-08-08        0.596434  \n",
       "2008-08-08        0.596434  \n",
       "2008-08-08        0.596434  \n",
       "2008-08-08        0.596434  "
      ]
     },
     "execution_count": 23,
     "metadata": {},
     "output_type": "execute_result"
    }
   ],
   "source": [
    "# Create normalized data for regression\n",
    "regressionData = combinedData.copy( deep = True )\n",
    "def normalize( data, col ):\n",
    "    data[col] = ( data[col] - data[col].min() ) / ( data[col].max() - data[col].min() )\n",
    "normalize( regressionData, 'forward_gains' )\n",
    "normalize( regressionData, 'backward_gains' )\n",
    "regressionData.head()"
   ]
  },
  {
   "cell_type": "code",
   "execution_count": 31,
   "metadata": {},
   "outputs": [
    {
     "data": {
      "text/html": [
       "<div>\n",
       "<style scoped>\n",
       "    .dataframe tbody tr th:only-of-type {\n",
       "        vertical-align: middle;\n",
       "    }\n",
       "\n",
       "    .dataframe tbody tr th {\n",
       "        vertical-align: top;\n",
       "    }\n",
       "\n",
       "    .dataframe thead th {\n",
       "        text-align: right;\n",
       "    }\n",
       "</style>\n",
       "<table border=\"1\" class=\"dataframe\">\n",
       "  <thead>\n",
       "    <tr style=\"text-align: right;\">\n",
       "      <th></th>\n",
       "      <th>Embedding</th>\n",
       "      <th>forward_gains</th>\n",
       "      <th>backward_gains</th>\n",
       "    </tr>\n",
       "    <tr>\n",
       "      <th>Date</th>\n",
       "      <th></th>\n",
       "      <th></th>\n",
       "      <th></th>\n",
       "    </tr>\n",
       "  </thead>\n",
       "  <tbody>\n",
       "    <tr>\n",
       "      <th>2008-08-08</th>\n",
       "      <td>[0.03166535, -0.11373435, 0.16130243, 0.613904...</td>\n",
       "      <td>True</td>\n",
       "      <td>True</td>\n",
       "    </tr>\n",
       "    <tr>\n",
       "      <th>2008-08-08</th>\n",
       "      <td>[-0.06930076, -0.13197942, 0.07616737, 0.27997...</td>\n",
       "      <td>True</td>\n",
       "      <td>True</td>\n",
       "    </tr>\n",
       "    <tr>\n",
       "      <th>2008-08-08</th>\n",
       "      <td>[0.06206376, -0.085277244, 0.20672376, 0.48175...</td>\n",
       "      <td>True</td>\n",
       "      <td>True</td>\n",
       "    </tr>\n",
       "    <tr>\n",
       "      <th>2008-08-08</th>\n",
       "      <td>[-0.014135499, -0.07695068, 0.17176159, 0.5451...</td>\n",
       "      <td>True</td>\n",
       "      <td>True</td>\n",
       "    </tr>\n",
       "    <tr>\n",
       "      <th>2008-08-08</th>\n",
       "      <td>[-0.23319589, -0.24008308, 0.007345368, 0.7770...</td>\n",
       "      <td>True</td>\n",
       "      <td>True</td>\n",
       "    </tr>\n",
       "  </tbody>\n",
       "</table>\n",
       "</div>"
      ],
      "text/plain": [
       "                                                    Embedding  forward_gains  \\\n",
       "Date                                                                           \n",
       "2008-08-08  [0.03166535, -0.11373435, 0.16130243, 0.613904...           True   \n",
       "2008-08-08  [-0.06930076, -0.13197942, 0.07616737, 0.27997...           True   \n",
       "2008-08-08  [0.06206376, -0.085277244, 0.20672376, 0.48175...           True   \n",
       "2008-08-08  [-0.014135499, -0.07695068, 0.17176159, 0.5451...           True   \n",
       "2008-08-08  [-0.23319589, -0.24008308, 0.007345368, 0.7770...           True   \n",
       "\n",
       "            backward_gains  \n",
       "Date                        \n",
       "2008-08-08            True  \n",
       "2008-08-08            True  \n",
       "2008-08-08            True  \n",
       "2008-08-08            True  \n",
       "2008-08-08            True  "
      ]
     },
     "execution_count": 31,
     "metadata": {},
     "output_type": "execute_result"
    }
   ],
   "source": [
    "# Create binary dataset aswell\n",
    "binaryData = combinedData.copy( deep = True )\n",
    "binaryData['forward_gains'] = binaryData['forward_gains'] > 0\n",
    "binaryData['backward_gains'] = binaryData['backward_gains'] > 0\n",
    "binaryData.head()"
   ]
  },
  {
   "cell_type": "markdown",
   "metadata": {},
   "source": [
    "## Create Model"
   ]
  },
  {
   "cell_type": "code",
   "execution_count": 20,
   "metadata": {},
   "outputs": [],
   "source": [
    "import tensorflow as tf"
   ]
  },
  {
   "cell_type": "code",
   "execution_count": 98,
   "metadata": {},
   "outputs": [],
   "source": [
    "model = tf.keras.models.Sequential([\n",
    "    tf.keras.Input(shape=(300,)),\n",
    "    tf.keras.layers.Dense(300, activation=tf.nn.relu),\n",
    "    tf.keras.layers.Dense(300, activation=tf.nn.relu),\n",
    "    tf.keras.layers.Dense(1, activation=tf.nn.softmax)\n",
    "])\n",
    "model.compile(\n",
    "    loss='binary_crossentropy',\n",
    "    optimizer=tf.keras.optimizers.Adam(0.001),\n",
    "    metrics=['accuracy'],\n",
    ")"
   ]
  },
  {
   "cell_type": "markdown",
   "metadata": {},
   "source": [
    "## Seperate Dataset"
   ]
  },
  {
   "cell_type": "code",
   "execution_count": 99,
   "metadata": {},
   "outputs": [],
   "source": [
    "import random"
   ]
  },
  {
   "cell_type": "code",
   "execution_count": 100,
   "metadata": {},
   "outputs": [],
   "source": [
    "# Training on forward gains for now\n",
    "use_column = 'backward_gains'"
   ]
  },
  {
   "cell_type": "code",
   "execution_count": 101,
   "metadata": {},
   "outputs": [
    {
     "data": {
      "text/plain": [
       "(28418, 300)"
      ]
     },
     "execution_count": 101,
     "metadata": {},
     "output_type": "execute_result"
    }
   ],
   "source": [
    "positive_examples = binaryData['Embedding'][binaryData[use_column]].dropna().values \n",
    "positive_examples = np.stack( positive_examples )\n",
    "positive_examples.shape"
   ]
  },
  {
   "cell_type": "code",
   "execution_count": 102,
   "metadata": {},
   "outputs": [
    {
     "data": {
      "text/plain": [
       "(21300, 300)"
      ]
     },
     "execution_count": 102,
     "metadata": {},
     "output_type": "execute_result"
    }
   ],
   "source": [
    "negative_examples = np.array( binaryData['Embedding'][~binaryData[use_column]].dropna().values )\n",
    "negative_examples = np.stack( negative_examples )\n",
    "negative_examples.shape"
   ]
  },
  {
   "cell_type": "code",
   "execution_count": 103,
   "metadata": {},
   "outputs": [
    {
     "name": "stdout",
     "output_type": "stream",
     "text": [
      "(49718, 300) (49718,)\n"
     ]
    }
   ],
   "source": [
    "X = np.concatenate([positive_examples, negative_examples])\n",
    "y = np.concatenate([np.zeros(positive_examples.shape[0]) + 1, np.zeros(negative_examples.shape[0]) ])\n",
    "print(X.shape, y.shape)"
   ]
  },
  {
   "cell_type": "markdown",
   "metadata": {},
   "source": [
    "## Training"
   ]
  },
  {
   "cell_type": "code",
   "execution_count": 104,
   "metadata": {},
   "outputs": [
    {
     "name": "stdout",
     "output_type": "stream",
     "text": [
      "Train on 44746 samples, validate on 4972 samples\n",
      "Epoch 1/4\n",
      "44746/44746 [==============================] - 12s 268us/sample - loss: 5.5645 - accuracy: 0.6351 - val_loss: 15.2492 - val_accuracy: 0.0000e+00\n",
      "Epoch 2/4\n",
      "44746/44746 [==============================] - 11s 248us/sample - loss: 5.5645 - accuracy: 0.6351 - val_loss: 15.2492 - val_accuracy: 0.0000e+00\n",
      "Epoch 3/4\n",
      "44746/44746 [==============================] - 10s 234us/sample - loss: 5.5645 - accuracy: 0.6351 - val_loss: 15.2492 - val_accuracy: 0.0000e+00\n",
      "Epoch 4/4\n",
      "44746/44746 [==============================] - 10s 232us/sample - loss: 5.5645 - accuracy: 0.6351 - val_loss: 15.2492 - val_accuracy: 0.0000e+00\n"
     ]
    },
    {
     "data": {
      "text/plain": [
       "<tensorflow.python.keras.callbacks.History at 0x1eb2db9b688>"
      ]
     },
     "execution_count": 104,
     "metadata": {},
     "output_type": "execute_result"
    }
   ],
   "source": [
    "model.fit( x=X, y=y, validation_split=0.1, epochs = 4)"
   ]
  },
  {
   "cell_type": "code",
   "execution_count": null,
   "metadata": {},
   "outputs": [],
   "source": []
  }
 ],
 "metadata": {
  "kernelspec": {
   "display_name": "Python 3",
   "language": "python",
   "name": "python3"
  },
  "language_info": {
   "codemirror_mode": {
    "name": "ipython",
    "version": 3
   },
   "file_extension": ".py",
   "mimetype": "text/x-python",
   "name": "python",
   "nbconvert_exporter": "python",
   "pygments_lexer": "ipython3",
   "version": "3.7.9"
  }
 },
 "nbformat": 4,
 "nbformat_minor": 4
}
