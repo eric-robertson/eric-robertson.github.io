{
 "cells": [
  {
   "cell_type": "markdown",
   "metadata": {},
   "source": [
    "# Imports"
   ]
  },
  {
   "cell_type": "code",
   "execution_count": 1,
   "metadata": {},
   "outputs": [],
   "source": [
    "_cache = './cache'\n",
    "_data = './data'"
   ]
  },
  {
   "cell_type": "markdown",
   "metadata": {},
   "source": [
    "## News Data"
   ]
  },
  {
   "cell_type": "code",
   "execution_count": 2,
   "metadata": {},
   "outputs": [],
   "source": [
    "from src.news import NewsDataManager"
   ]
  },
  {
   "cell_type": "code",
   "execution_count": 3,
   "metadata": {},
   "outputs": [
    {
     "name": "stdout",
     "output_type": "stream",
     "text": [
      "Read Saved Data                                                                                                     \n"
     ]
    }
   ],
   "source": [
    "newsData = NewsDataManager( _data, _cache )\n",
    "\n",
    "src1 = '/news/Combined_News_DJIA.csv'\n",
    "src2 = '/news/github.csv'\n",
    "\n",
    "if ( newsData.save_exists('news') ):\n",
    "    newsData.load('news')\n",
    "else:\n",
    "    newsData.process_data(src1 )\n",
    "    newsData.save('news')"
   ]
  },
  {
   "cell_type": "code",
   "execution_count": 4,
   "metadata": {},
   "outputs": [
    {
     "data": {
      "text/html": [
       "<div>\n",
       "<style scoped>\n",
       "    .dataframe tbody tr th:only-of-type {\n",
       "        vertical-align: middle;\n",
       "    }\n",
       "\n",
       "    .dataframe tbody tr th {\n",
       "        vertical-align: top;\n",
       "    }\n",
       "\n",
       "    .dataframe thead th {\n",
       "        text-align: right;\n",
       "    }\n",
       "</style>\n",
       "<table border=\"1\" class=\"dataframe\">\n",
       "  <thead>\n",
       "    <tr style=\"text-align: right;\">\n",
       "      <th></th>\n",
       "      <th>Date</th>\n",
       "      <th>Headline</th>\n",
       "    </tr>\n",
       "  </thead>\n",
       "  <tbody>\n",
       "    <tr>\n",
       "      <th>0</th>\n",
       "      <td>2008-08-08</td>\n",
       "      <td>[eorgia, down, two, russian, warplan, countri,...</td>\n",
       "    </tr>\n",
       "    <tr>\n",
       "      <th>1</th>\n",
       "      <td>2008-08-08</td>\n",
       "      <td>[reak, musharraf, impeach]</td>\n",
       "    </tr>\n",
       "    <tr>\n",
       "      <th>2</th>\n",
       "      <td>2008-08-08</td>\n",
       "      <td>[ussia, today, column, troop, roll, south, oss...</td>\n",
       "    </tr>\n",
       "    <tr>\n",
       "      <th>3</th>\n",
       "      <td>2008-08-08</td>\n",
       "      <td>[ussian, tank, move, toward, capit, south, oss...</td>\n",
       "    </tr>\n",
       "    <tr>\n",
       "      <th>4</th>\n",
       "      <td>2008-08-08</td>\n",
       "      <td>[fghan, children, rape, impun, UN, offici, say...</td>\n",
       "    </tr>\n",
       "  </tbody>\n",
       "</table>\n",
       "</div>"
      ],
      "text/plain": [
       "        Date                                           Headline\n",
       "0 2008-08-08  [eorgia, down, two, russian, warplan, countri,...\n",
       "1 2008-08-08                         [reak, musharraf, impeach]\n",
       "2 2008-08-08  [ussia, today, column, troop, roll, south, oss...\n",
       "3 2008-08-08  [ussian, tank, move, toward, capit, south, oss...\n",
       "4 2008-08-08  [fghan, children, rape, impun, UN, offici, say..."
      ]
     },
     "execution_count": 4,
     "metadata": {},
     "output_type": "execute_result"
    }
   ],
   "source": [
    "newsData.data.head()"
   ]
  },
  {
   "cell_type": "markdown",
   "metadata": {},
   "source": [
    "## Embeddings"
   ]
  },
  {
   "cell_type": "code",
   "execution_count": 5,
   "metadata": {},
   "outputs": [],
   "source": [
    "import spacy\n",
    "import gensim \n",
    "from gensim.models import Word2Vec \n",
    "import numpy as np\n",
    "import gensim.downloader as api"
   ]
  },
  {
   "cell_type": "code",
   "execution_count": 8,
   "metadata": {},
   "outputs": [
    {
     "data": {
      "text/plain": [
       "25"
      ]
     },
     "execution_count": 8,
     "metadata": {},
     "output_type": "execute_result"
    }
   ],
   "source": [
    "#model_glove_twitter = api.load(\"glove-twitter-25\")\n",
    "#encoding_size = model_glove_twitter['bob'].shape[0]\n",
    "encoding_size = 25\n",
    "encoding_size"
   ]
  },
  {
   "cell_type": "code",
   "execution_count": 9,
   "metadata": {},
   "outputs": [
    {
     "name": "stdout",
     "output_type": "stream",
     "text": [
      "Read Saved Data                                                                                                     \n"
     ]
    }
   ],
   "source": [
    "create_custom = False\n",
    "\n",
    "if create_custom:\n",
    "    if ( newsData.save_exists('news+embeddings') ):\n",
    "        newsData.load('news+embeddings')\n",
    "    else:\n",
    "        # Create a word to vec encoder \n",
    "        sentences = newsData.data.Headline.values\n",
    "        news_model = Word2Vec(sentences, size=300, min_count=1)\n",
    "        # Map the embeddings onto it\n",
    "        newsData.use_embedding_map( news_model.wv, encoding_size )\n",
    "        # Save output\n",
    "        newsData.save('news+embeddings')\n",
    "else:\n",
    "    if ( newsData.save_exists('news+glove') ):\n",
    "        newsData.load('news+glove')\n",
    "    else:\n",
    "        newsData.use_embedding_map( model_glove_twitter, encoding_size )\n",
    "        newsData.save('news+glove')"
   ]
  },
  {
   "cell_type": "code",
   "execution_count": 10,
   "metadata": {},
   "outputs": [
    {
     "data": {
      "text/html": [
       "<div>\n",
       "<style scoped>\n",
       "    .dataframe tbody tr th:only-of-type {\n",
       "        vertical-align: middle;\n",
       "    }\n",
       "\n",
       "    .dataframe tbody tr th {\n",
       "        vertical-align: top;\n",
       "    }\n",
       "\n",
       "    .dataframe thead th {\n",
       "        text-align: right;\n",
       "    }\n",
       "</style>\n",
       "<table border=\"1\" class=\"dataframe\">\n",
       "  <thead>\n",
       "    <tr style=\"text-align: right;\">\n",
       "      <th></th>\n",
       "      <th>Date</th>\n",
       "      <th>Headline</th>\n",
       "      <th>Embedding</th>\n",
       "    </tr>\n",
       "  </thead>\n",
       "  <tbody>\n",
       "    <tr>\n",
       "      <th>0</th>\n",
       "      <td>2008-08-08</td>\n",
       "      <td>[georgia, down, two, russian, warplan, countri...</td>\n",
       "      <td>[0.08687834850408965, 0.14082443879710305, -0....</td>\n",
       "    </tr>\n",
       "    <tr>\n",
       "      <th>1</th>\n",
       "      <td>2008-08-08</td>\n",
       "      <td>[break, musharraf, impeach]</td>\n",
       "      <td>[0.10069001, 0.61090666, -0.494177, -0.2415999...</td>\n",
       "    </tr>\n",
       "    <tr>\n",
       "      <th>2</th>\n",
       "      <td>2008-08-08</td>\n",
       "      <td>[russia, today, column, troop, roll, south, os...</td>\n",
       "      <td>[-0.16874400824308394, 0.15566962528973818, -0...</td>\n",
       "    </tr>\n",
       "    <tr>\n",
       "      <th>3</th>\n",
       "      <td>2008-08-08</td>\n",
       "      <td>[russian, tank, move, toward, capit, south, os...</td>\n",
       "      <td>[-0.2749368376814975, -0.06807107535692361, -0...</td>\n",
       "    </tr>\n",
       "    <tr>\n",
       "      <th>4</th>\n",
       "      <td>2008-08-08</td>\n",
       "      <td>[afghan, children, rape, impun, UN, offici, sa...</td>\n",
       "      <td>[-0.19116646194687256, 0.36368216344943416, 0....</td>\n",
       "    </tr>\n",
       "  </tbody>\n",
       "</table>\n",
       "</div>"
      ],
      "text/plain": [
       "        Date                                           Headline  \\\n",
       "0 2008-08-08  [georgia, down, two, russian, warplan, countri...   \n",
       "1 2008-08-08                        [break, musharraf, impeach]   \n",
       "2 2008-08-08  [russia, today, column, troop, roll, south, os...   \n",
       "3 2008-08-08  [russian, tank, move, toward, capit, south, os...   \n",
       "4 2008-08-08  [afghan, children, rape, impun, UN, offici, sa...   \n",
       "\n",
       "                                           Embedding  \n",
       "0  [0.08687834850408965, 0.14082443879710305, -0....  \n",
       "1  [0.10069001, 0.61090666, -0.494177, -0.2415999...  \n",
       "2  [-0.16874400824308394, 0.15566962528973818, -0...  \n",
       "3  [-0.2749368376814975, -0.06807107535692361, -0...  \n",
       "4  [-0.19116646194687256, 0.36368216344943416, 0....  "
      ]
     },
     "execution_count": 10,
     "metadata": {},
     "output_type": "execute_result"
    }
   ],
   "source": [
    "newsData.data.head()"
   ]
  },
  {
   "cell_type": "markdown",
   "metadata": {},
   "source": [
    "## Stock Data"
   ]
  },
  {
   "cell_type": "code",
   "execution_count": 11,
   "metadata": {},
   "outputs": [],
   "source": [
    "from src.stocks import StockDataManager"
   ]
  },
  {
   "cell_type": "code",
   "execution_count": 12,
   "metadata": {},
   "outputs": [
    {
     "name": "stdout",
     "output_type": "stream",
     "text": [
      "Stock Data Manager\n",
      "Read Saved Data                                                                                                     \n"
     ]
    },
    {
     "data": {
      "text/html": [
       "<div>\n",
       "<style scoped>\n",
       "    .dataframe tbody tr th:only-of-type {\n",
       "        vertical-align: middle;\n",
       "    }\n",
       "\n",
       "    .dataframe tbody tr th {\n",
       "        vertical-align: top;\n",
       "    }\n",
       "\n",
       "    .dataframe thead th {\n",
       "        text-align: right;\n",
       "    }\n",
       "</style>\n",
       "<table border=\"1\" class=\"dataframe\">\n",
       "  <thead>\n",
       "    <tr style=\"text-align: right;\">\n",
       "      <th></th>\n",
       "      <th>Date</th>\n",
       "      <th>Open</th>\n",
       "      <th>High</th>\n",
       "      <th>Low</th>\n",
       "      <th>Close</th>\n",
       "      <th>Adj Close</th>\n",
       "      <th>Volume</th>\n",
       "      <th>forward_gains</th>\n",
       "      <th>backward_gains</th>\n",
       "    </tr>\n",
       "  </thead>\n",
       "  <tbody>\n",
       "    <tr>\n",
       "      <th>0</th>\n",
       "      <td>1993-01-29</td>\n",
       "      <td>43.96875</td>\n",
       "      <td>43.96875</td>\n",
       "      <td>43.75000</td>\n",
       "      <td>43.93750</td>\n",
       "      <td>26.299288</td>\n",
       "      <td>1003200</td>\n",
       "      <td>0.023610</td>\n",
       "      <td>NaN</td>\n",
       "    </tr>\n",
       "    <tr>\n",
       "      <th>1</th>\n",
       "      <td>1993-02-01</td>\n",
       "      <td>43.96875</td>\n",
       "      <td>44.25000</td>\n",
       "      <td>43.96875</td>\n",
       "      <td>44.25000</td>\n",
       "      <td>26.486324</td>\n",
       "      <td>480500</td>\n",
       "      <td>0.015983</td>\n",
       "      <td>NaN</td>\n",
       "    </tr>\n",
       "    <tr>\n",
       "      <th>2</th>\n",
       "      <td>1993-02-02</td>\n",
       "      <td>44.21875</td>\n",
       "      <td>44.37500</td>\n",
       "      <td>44.12500</td>\n",
       "      <td>44.34375</td>\n",
       "      <td>26.542448</td>\n",
       "      <td>201300</td>\n",
       "      <td>0.013898</td>\n",
       "      <td>NaN</td>\n",
       "    </tr>\n",
       "    <tr>\n",
       "      <th>3</th>\n",
       "      <td>1993-02-03</td>\n",
       "      <td>44.40625</td>\n",
       "      <td>44.84375</td>\n",
       "      <td>44.37500</td>\n",
       "      <td>44.81250</td>\n",
       "      <td>26.822998</td>\n",
       "      <td>529400</td>\n",
       "      <td>-0.003498</td>\n",
       "      <td>NaN</td>\n",
       "    </tr>\n",
       "    <tr>\n",
       "      <th>4</th>\n",
       "      <td>1993-02-04</td>\n",
       "      <td>44.96875</td>\n",
       "      <td>45.09375</td>\n",
       "      <td>44.46875</td>\n",
       "      <td>45.00000</td>\n",
       "      <td>26.935240</td>\n",
       "      <td>531500</td>\n",
       "      <td>-0.006289</td>\n",
       "      <td>0.024181</td>\n",
       "    </tr>\n",
       "  </tbody>\n",
       "</table>\n",
       "</div>"
      ],
      "text/plain": [
       "        Date      Open      High       Low     Close  Adj Close   Volume  \\\n",
       "0 1993-01-29  43.96875  43.96875  43.75000  43.93750  26.299288  1003200   \n",
       "1 1993-02-01  43.96875  44.25000  43.96875  44.25000  26.486324   480500   \n",
       "2 1993-02-02  44.21875  44.37500  44.12500  44.34375  26.542448   201300   \n",
       "3 1993-02-03  44.40625  44.84375  44.37500  44.81250  26.822998   529400   \n",
       "4 1993-02-04  44.96875  45.09375  44.46875  45.00000  26.935240   531500   \n",
       "\n",
       "   forward_gains  backward_gains  \n",
       "0       0.023610             NaN  \n",
       "1       0.015983             NaN  \n",
       "2       0.013898             NaN  \n",
       "3      -0.003498             NaN  \n",
       "4      -0.006289        0.024181  "
      ]
     },
     "execution_count": 12,
     "metadata": {},
     "output_type": "execute_result"
    }
   ],
   "source": [
    "stockData = StockDataManager( 'SPY', _data, _cache )\n",
    "stockData.data.head()"
   ]
  },
  {
   "cell_type": "markdown",
   "metadata": {},
   "source": [
    "## Merge Data"
   ]
  },
  {
   "cell_type": "code",
   "execution_count": 13,
   "metadata": {},
   "outputs": [
    {
     "data": {
      "text/html": [
       "<div>\n",
       "<style scoped>\n",
       "    .dataframe tbody tr th:only-of-type {\n",
       "        vertical-align: middle;\n",
       "    }\n",
       "\n",
       "    .dataframe tbody tr th {\n",
       "        vertical-align: top;\n",
       "    }\n",
       "\n",
       "    .dataframe thead th {\n",
       "        text-align: right;\n",
       "    }\n",
       "</style>\n",
       "<table border=\"1\" class=\"dataframe\">\n",
       "  <thead>\n",
       "    <tr style=\"text-align: right;\">\n",
       "      <th></th>\n",
       "      <th>Headline</th>\n",
       "      <th>Embedding</th>\n",
       "      <th>Open</th>\n",
       "      <th>High</th>\n",
       "      <th>Low</th>\n",
       "      <th>Close</th>\n",
       "      <th>Adj Close</th>\n",
       "      <th>Volume</th>\n",
       "      <th>forward_gains</th>\n",
       "      <th>backward_gains</th>\n",
       "    </tr>\n",
       "    <tr>\n",
       "      <th>Date</th>\n",
       "      <th></th>\n",
       "      <th></th>\n",
       "      <th></th>\n",
       "      <th></th>\n",
       "      <th></th>\n",
       "      <th></th>\n",
       "      <th></th>\n",
       "      <th></th>\n",
       "      <th></th>\n",
       "      <th></th>\n",
       "    </tr>\n",
       "  </thead>\n",
       "  <tbody>\n",
       "    <tr>\n",
       "      <th>2008-08-08</th>\n",
       "      <td>[georgia, down, two, russian, warplan, countri...</td>\n",
       "      <td>[0.08687834850408965, 0.14082443879710305, -0....</td>\n",
       "      <td>126.580002</td>\n",
       "      <td>129.929993</td>\n",
       "      <td>126.379997</td>\n",
       "      <td>129.369995</td>\n",
       "      <td>101.503098</td>\n",
       "      <td>260811700</td>\n",
       "      <td>0.001312</td>\n",
       "      <td>0.035043</td>\n",
       "    </tr>\n",
       "    <tr>\n",
       "      <th>2008-08-08</th>\n",
       "      <td>[break, musharraf, impeach]</td>\n",
       "      <td>[0.10069001, 0.61090666, -0.494177, -0.2415999...</td>\n",
       "      <td>126.580002</td>\n",
       "      <td>129.929993</td>\n",
       "      <td>126.379997</td>\n",
       "      <td>129.369995</td>\n",
       "      <td>101.503098</td>\n",
       "      <td>260811700</td>\n",
       "      <td>0.001312</td>\n",
       "      <td>0.035043</td>\n",
       "    </tr>\n",
       "    <tr>\n",
       "      <th>2008-08-08</th>\n",
       "      <td>[russia, today, column, troop, roll, south, os...</td>\n",
       "      <td>[-0.16874400824308394, 0.15566962528973818, -0...</td>\n",
       "      <td>126.580002</td>\n",
       "      <td>129.929993</td>\n",
       "      <td>126.379997</td>\n",
       "      <td>129.369995</td>\n",
       "      <td>101.503098</td>\n",
       "      <td>260811700</td>\n",
       "      <td>0.001312</td>\n",
       "      <td>0.035043</td>\n",
       "    </tr>\n",
       "    <tr>\n",
       "      <th>2008-08-08</th>\n",
       "      <td>[russian, tank, move, toward, capit, south, os...</td>\n",
       "      <td>[-0.2749368376814975, -0.06807107535692361, -0...</td>\n",
       "      <td>126.580002</td>\n",
       "      <td>129.929993</td>\n",
       "      <td>126.379997</td>\n",
       "      <td>129.369995</td>\n",
       "      <td>101.503098</td>\n",
       "      <td>260811700</td>\n",
       "      <td>0.001312</td>\n",
       "      <td>0.035043</td>\n",
       "    </tr>\n",
       "    <tr>\n",
       "      <th>2008-08-08</th>\n",
       "      <td>[afghan, children, rape, impun, UN, offici, sa...</td>\n",
       "      <td>[-0.19116646194687256, 0.36368216344943416, 0....</td>\n",
       "      <td>126.580002</td>\n",
       "      <td>129.929993</td>\n",
       "      <td>126.379997</td>\n",
       "      <td>129.369995</td>\n",
       "      <td>101.503098</td>\n",
       "      <td>260811700</td>\n",
       "      <td>0.001312</td>\n",
       "      <td>0.035043</td>\n",
       "    </tr>\n",
       "  </tbody>\n",
       "</table>\n",
       "</div>"
      ],
      "text/plain": [
       "                                                     Headline  \\\n",
       "Date                                                            \n",
       "2008-08-08  [georgia, down, two, russian, warplan, countri...   \n",
       "2008-08-08                        [break, musharraf, impeach]   \n",
       "2008-08-08  [russia, today, column, troop, roll, south, os...   \n",
       "2008-08-08  [russian, tank, move, toward, capit, south, os...   \n",
       "2008-08-08  [afghan, children, rape, impun, UN, offici, sa...   \n",
       "\n",
       "                                                    Embedding        Open  \\\n",
       "Date                                                                        \n",
       "2008-08-08  [0.08687834850408965, 0.14082443879710305, -0....  126.580002   \n",
       "2008-08-08  [0.10069001, 0.61090666, -0.494177, -0.2415999...  126.580002   \n",
       "2008-08-08  [-0.16874400824308394, 0.15566962528973818, -0...  126.580002   \n",
       "2008-08-08  [-0.2749368376814975, -0.06807107535692361, -0...  126.580002   \n",
       "2008-08-08  [-0.19116646194687256, 0.36368216344943416, 0....  126.580002   \n",
       "\n",
       "                  High         Low       Close   Adj Close     Volume  \\\n",
       "Date                                                                    \n",
       "2008-08-08  129.929993  126.379997  129.369995  101.503098  260811700   \n",
       "2008-08-08  129.929993  126.379997  129.369995  101.503098  260811700   \n",
       "2008-08-08  129.929993  126.379997  129.369995  101.503098  260811700   \n",
       "2008-08-08  129.929993  126.379997  129.369995  101.503098  260811700   \n",
       "2008-08-08  129.929993  126.379997  129.369995  101.503098  260811700   \n",
       "\n",
       "            forward_gains  backward_gains  \n",
       "Date                                       \n",
       "2008-08-08       0.001312        0.035043  \n",
       "2008-08-08       0.001312        0.035043  \n",
       "2008-08-08       0.001312        0.035043  \n",
       "2008-08-08       0.001312        0.035043  \n",
       "2008-08-08       0.001312        0.035043  "
      ]
     },
     "execution_count": 13,
     "metadata": {},
     "output_type": "execute_result"
    }
   ],
   "source": [
    "combinedData = newsData.data.set_index('Date').join( stockData.data.set_index('Date') )\n",
    "combinedData.head()"
   ]
  },
  {
   "cell_type": "code",
   "execution_count": 14,
   "metadata": {},
   "outputs": [
    {
     "data": {
      "text/html": [
       "<div>\n",
       "<style scoped>\n",
       "    .dataframe tbody tr th:only-of-type {\n",
       "        vertical-align: middle;\n",
       "    }\n",
       "\n",
       "    .dataframe tbody tr th {\n",
       "        vertical-align: top;\n",
       "    }\n",
       "\n",
       "    .dataframe thead th {\n",
       "        text-align: right;\n",
       "    }\n",
       "</style>\n",
       "<table border=\"1\" class=\"dataframe\">\n",
       "  <thead>\n",
       "    <tr style=\"text-align: right;\">\n",
       "      <th></th>\n",
       "      <th>Headline</th>\n",
       "      <th>Embedding</th>\n",
       "      <th>forward_gains</th>\n",
       "      <th>backward_gains</th>\n",
       "    </tr>\n",
       "    <tr>\n",
       "      <th>Date</th>\n",
       "      <th></th>\n",
       "      <th></th>\n",
       "      <th></th>\n",
       "      <th></th>\n",
       "    </tr>\n",
       "  </thead>\n",
       "  <tbody>\n",
       "    <tr>\n",
       "      <th>2008-08-08</th>\n",
       "      <td>[georgia, down, two, russian, warplan, countri...</td>\n",
       "      <td>[0.08687834850408965, 0.14082443879710305, -0....</td>\n",
       "      <td>0.001312</td>\n",
       "      <td>0.035043</td>\n",
       "    </tr>\n",
       "    <tr>\n",
       "      <th>2008-08-08</th>\n",
       "      <td>[break, musharraf, impeach]</td>\n",
       "      <td>[0.10069001, 0.61090666, -0.494177, -0.2415999...</td>\n",
       "      <td>0.001312</td>\n",
       "      <td>0.035043</td>\n",
       "    </tr>\n",
       "    <tr>\n",
       "      <th>2008-08-08</th>\n",
       "      <td>[russia, today, column, troop, roll, south, os...</td>\n",
       "      <td>[-0.16874400824308394, 0.15566962528973818, -0...</td>\n",
       "      <td>0.001312</td>\n",
       "      <td>0.035043</td>\n",
       "    </tr>\n",
       "    <tr>\n",
       "      <th>2008-08-08</th>\n",
       "      <td>[russian, tank, move, toward, capit, south, os...</td>\n",
       "      <td>[-0.2749368376814975, -0.06807107535692361, -0...</td>\n",
       "      <td>0.001312</td>\n",
       "      <td>0.035043</td>\n",
       "    </tr>\n",
       "    <tr>\n",
       "      <th>2008-08-08</th>\n",
       "      <td>[afghan, children, rape, impun, UN, offici, sa...</td>\n",
       "      <td>[-0.19116646194687256, 0.36368216344943416, 0....</td>\n",
       "      <td>0.001312</td>\n",
       "      <td>0.035043</td>\n",
       "    </tr>\n",
       "  </tbody>\n",
       "</table>\n",
       "</div>"
      ],
      "text/plain": [
       "                                                     Headline  \\\n",
       "Date                                                            \n",
       "2008-08-08  [georgia, down, two, russian, warplan, countri...   \n",
       "2008-08-08                        [break, musharraf, impeach]   \n",
       "2008-08-08  [russia, today, column, troop, roll, south, os...   \n",
       "2008-08-08  [russian, tank, move, toward, capit, south, os...   \n",
       "2008-08-08  [afghan, children, rape, impun, UN, offici, sa...   \n",
       "\n",
       "                                                    Embedding  forward_gains  \\\n",
       "Date                                                                           \n",
       "2008-08-08  [0.08687834850408965, 0.14082443879710305, -0....       0.001312   \n",
       "2008-08-08  [0.10069001, 0.61090666, -0.494177, -0.2415999...       0.001312   \n",
       "2008-08-08  [-0.16874400824308394, 0.15566962528973818, -0...       0.001312   \n",
       "2008-08-08  [-0.2749368376814975, -0.06807107535692361, -0...       0.001312   \n",
       "2008-08-08  [-0.19116646194687256, 0.36368216344943416, 0....       0.001312   \n",
       "\n",
       "            backward_gains  \n",
       "Date                        \n",
       "2008-08-08        0.035043  \n",
       "2008-08-08        0.035043  \n",
       "2008-08-08        0.035043  \n",
       "2008-08-08        0.035043  \n",
       "2008-08-08        0.035043  "
      ]
     },
     "execution_count": 14,
     "metadata": {},
     "output_type": "execute_result"
    }
   ],
   "source": [
    "combinedData = combinedData.drop(columns=['Open', 'High', 'Low', 'Close', 'Adj Close', 'Volume'] )\n",
    "combinedData.head()"
   ]
  },
  {
   "cell_type": "code",
   "execution_count": 15,
   "metadata": {},
   "outputs": [
    {
     "data": {
      "text/html": [
       "<div>\n",
       "<style scoped>\n",
       "    .dataframe tbody tr th:only-of-type {\n",
       "        vertical-align: middle;\n",
       "    }\n",
       "\n",
       "    .dataframe tbody tr th {\n",
       "        vertical-align: top;\n",
       "    }\n",
       "\n",
       "    .dataframe thead th {\n",
       "        text-align: right;\n",
       "    }\n",
       "</style>\n",
       "<table border=\"1\" class=\"dataframe\">\n",
       "  <thead>\n",
       "    <tr style=\"text-align: right;\">\n",
       "      <th></th>\n",
       "      <th>Headline</th>\n",
       "      <th>Embedding</th>\n",
       "      <th>forward_gains</th>\n",
       "      <th>backward_gains</th>\n",
       "    </tr>\n",
       "    <tr>\n",
       "      <th>Date</th>\n",
       "      <th></th>\n",
       "      <th></th>\n",
       "      <th></th>\n",
       "      <th></th>\n",
       "    </tr>\n",
       "  </thead>\n",
       "  <tbody>\n",
       "    <tr>\n",
       "      <th>2008-08-08</th>\n",
       "      <td>[georgia, down, two, russian, warplan, countri...</td>\n",
       "      <td>[0.08687834850408965, 0.14082443879710305, -0....</td>\n",
       "      <td>0.591182</td>\n",
       "      <td>0.596434</td>\n",
       "    </tr>\n",
       "    <tr>\n",
       "      <th>2008-08-08</th>\n",
       "      <td>[break, musharraf, impeach]</td>\n",
       "      <td>[0.10069001, 0.61090666, -0.494177, -0.2415999...</td>\n",
       "      <td>0.591182</td>\n",
       "      <td>0.596434</td>\n",
       "    </tr>\n",
       "    <tr>\n",
       "      <th>2008-08-08</th>\n",
       "      <td>[russia, today, column, troop, roll, south, os...</td>\n",
       "      <td>[-0.16874400824308394, 0.15566962528973818, -0...</td>\n",
       "      <td>0.591182</td>\n",
       "      <td>0.596434</td>\n",
       "    </tr>\n",
       "    <tr>\n",
       "      <th>2008-08-08</th>\n",
       "      <td>[russian, tank, move, toward, capit, south, os...</td>\n",
       "      <td>[-0.2749368376814975, -0.06807107535692361, -0...</td>\n",
       "      <td>0.591182</td>\n",
       "      <td>0.596434</td>\n",
       "    </tr>\n",
       "    <tr>\n",
       "      <th>2008-08-08</th>\n",
       "      <td>[afghan, children, rape, impun, UN, offici, sa...</td>\n",
       "      <td>[-0.19116646194687256, 0.36368216344943416, 0....</td>\n",
       "      <td>0.591182</td>\n",
       "      <td>0.596434</td>\n",
       "    </tr>\n",
       "  </tbody>\n",
       "</table>\n",
       "</div>"
      ],
      "text/plain": [
       "                                                     Headline  \\\n",
       "Date                                                            \n",
       "2008-08-08  [georgia, down, two, russian, warplan, countri...   \n",
       "2008-08-08                        [break, musharraf, impeach]   \n",
       "2008-08-08  [russia, today, column, troop, roll, south, os...   \n",
       "2008-08-08  [russian, tank, move, toward, capit, south, os...   \n",
       "2008-08-08  [afghan, children, rape, impun, UN, offici, sa...   \n",
       "\n",
       "                                                    Embedding  forward_gains  \\\n",
       "Date                                                                           \n",
       "2008-08-08  [0.08687834850408965, 0.14082443879710305, -0....       0.591182   \n",
       "2008-08-08  [0.10069001, 0.61090666, -0.494177, -0.2415999...       0.591182   \n",
       "2008-08-08  [-0.16874400824308394, 0.15566962528973818, -0...       0.591182   \n",
       "2008-08-08  [-0.2749368376814975, -0.06807107535692361, -0...       0.591182   \n",
       "2008-08-08  [-0.19116646194687256, 0.36368216344943416, 0....       0.591182   \n",
       "\n",
       "            backward_gains  \n",
       "Date                        \n",
       "2008-08-08        0.596434  \n",
       "2008-08-08        0.596434  \n",
       "2008-08-08        0.596434  \n",
       "2008-08-08        0.596434  \n",
       "2008-08-08        0.596434  "
      ]
     },
     "execution_count": 15,
     "metadata": {},
     "output_type": "execute_result"
    }
   ],
   "source": [
    "# Create normalized data for regression\n",
    "regressionData = combinedData.copy( deep = True )\n",
    "def normalize( data, col ):\n",
    "    data[col] = ( data[col] - data[col].min() ) / ( data[col].max() - data[col].min() )\n",
    "normalize( regressionData, 'forward_gains' )\n",
    "normalize( regressionData, 'backward_gains' )\n",
    "regressionData.head()"
   ]
  },
  {
   "cell_type": "code",
   "execution_count": 16,
   "metadata": {},
   "outputs": [
    {
     "data": {
      "text/html": [
       "<div>\n",
       "<style scoped>\n",
       "    .dataframe tbody tr th:only-of-type {\n",
       "        vertical-align: middle;\n",
       "    }\n",
       "\n",
       "    .dataframe tbody tr th {\n",
       "        vertical-align: top;\n",
       "    }\n",
       "\n",
       "    .dataframe thead th {\n",
       "        text-align: right;\n",
       "    }\n",
       "</style>\n",
       "<table border=\"1\" class=\"dataframe\">\n",
       "  <thead>\n",
       "    <tr style=\"text-align: right;\">\n",
       "      <th></th>\n",
       "      <th>Headline</th>\n",
       "      <th>Embedding</th>\n",
       "      <th>forward_gains</th>\n",
       "      <th>backward_gains</th>\n",
       "    </tr>\n",
       "    <tr>\n",
       "      <th>Date</th>\n",
       "      <th></th>\n",
       "      <th></th>\n",
       "      <th></th>\n",
       "      <th></th>\n",
       "    </tr>\n",
       "  </thead>\n",
       "  <tbody>\n",
       "    <tr>\n",
       "      <th>2008-08-08</th>\n",
       "      <td>[georgia, down, two, russian, warplan, countri...</td>\n",
       "      <td>[0.08687834850408965, 0.14082443879710305, -0....</td>\n",
       "      <td>True</td>\n",
       "      <td>True</td>\n",
       "    </tr>\n",
       "    <tr>\n",
       "      <th>2008-08-08</th>\n",
       "      <td>[break, musharraf, impeach]</td>\n",
       "      <td>[0.10069001, 0.61090666, -0.494177, -0.2415999...</td>\n",
       "      <td>True</td>\n",
       "      <td>True</td>\n",
       "    </tr>\n",
       "    <tr>\n",
       "      <th>2008-08-08</th>\n",
       "      <td>[russia, today, column, troop, roll, south, os...</td>\n",
       "      <td>[-0.16874400824308394, 0.15566962528973818, -0...</td>\n",
       "      <td>True</td>\n",
       "      <td>True</td>\n",
       "    </tr>\n",
       "    <tr>\n",
       "      <th>2008-08-08</th>\n",
       "      <td>[russian, tank, move, toward, capit, south, os...</td>\n",
       "      <td>[-0.2749368376814975, -0.06807107535692361, -0...</td>\n",
       "      <td>True</td>\n",
       "      <td>True</td>\n",
       "    </tr>\n",
       "    <tr>\n",
       "      <th>2008-08-08</th>\n",
       "      <td>[afghan, children, rape, impun, UN, offici, sa...</td>\n",
       "      <td>[-0.19116646194687256, 0.36368216344943416, 0....</td>\n",
       "      <td>True</td>\n",
       "      <td>True</td>\n",
       "    </tr>\n",
       "  </tbody>\n",
       "</table>\n",
       "</div>"
      ],
      "text/plain": [
       "                                                     Headline  \\\n",
       "Date                                                            \n",
       "2008-08-08  [georgia, down, two, russian, warplan, countri...   \n",
       "2008-08-08                        [break, musharraf, impeach]   \n",
       "2008-08-08  [russia, today, column, troop, roll, south, os...   \n",
       "2008-08-08  [russian, tank, move, toward, capit, south, os...   \n",
       "2008-08-08  [afghan, children, rape, impun, UN, offici, sa...   \n",
       "\n",
       "                                                    Embedding  forward_gains  \\\n",
       "Date                                                                           \n",
       "2008-08-08  [0.08687834850408965, 0.14082443879710305, -0....           True   \n",
       "2008-08-08  [0.10069001, 0.61090666, -0.494177, -0.2415999...           True   \n",
       "2008-08-08  [-0.16874400824308394, 0.15566962528973818, -0...           True   \n",
       "2008-08-08  [-0.2749368376814975, -0.06807107535692361, -0...           True   \n",
       "2008-08-08  [-0.19116646194687256, 0.36368216344943416, 0....           True   \n",
       "\n",
       "            backward_gains  \n",
       "Date                        \n",
       "2008-08-08            True  \n",
       "2008-08-08            True  \n",
       "2008-08-08            True  \n",
       "2008-08-08            True  \n",
       "2008-08-08            True  "
      ]
     },
     "execution_count": 16,
     "metadata": {},
     "output_type": "execute_result"
    }
   ],
   "source": [
    "# Create binary dataset aswell\n",
    "binaryData = combinedData.copy( deep = True )\n",
    "binaryData['forward_gains'] = binaryData['forward_gains'] > 0\n",
    "binaryData['backward_gains'] = binaryData['backward_gains'] > 0\n",
    "binaryData.head()"
   ]
  },
  {
   "cell_type": "markdown",
   "metadata": {},
   "source": [
    "## Create Tensorflow Model"
   ]
  },
  {
   "cell_type": "code",
   "execution_count": 21,
   "metadata": {},
   "outputs": [],
   "source": [
    "import tensorflow as tf"
   ]
  },
  {
   "cell_type": "code",
   "execution_count": 22,
   "metadata": {},
   "outputs": [],
   "source": [
    "model = tf.keras.models.Sequential([\n",
    "    tf.keras.Input(shape=(encoding_size,)),\n",
    "    tf.keras.layers.Dense(20, activation=tf.nn.relu),\n",
    "    tf.keras.layers.Dense(20, activation=tf.nn.relu),\n",
    "    tf.keras.layers.Dense(1, activation=tf.nn.softmax)\n",
    "])\n",
    "model.compile(\n",
    "    loss='binary_crossentropy',\n",
    "    optimizer=tf.keras.optimizers.Adam(0.001),\n",
    "    metrics=['accuracy'],\n",
    ")"
   ]
  },
  {
   "cell_type": "markdown",
   "metadata": {},
   "source": [
    "## Seperate Dataset"
   ]
  },
  {
   "cell_type": "code",
   "execution_count": 23,
   "metadata": {},
   "outputs": [],
   "source": [
    "import random"
   ]
  },
  {
   "cell_type": "code",
   "execution_count": 24,
   "metadata": {},
   "outputs": [],
   "source": [
    "# Training on forward gains for now\n",
    "use_column = 'backward_gains'"
   ]
  },
  {
   "cell_type": "code",
   "execution_count": 25,
   "metadata": {},
   "outputs": [
    {
     "data": {
      "text/plain": [
       "(28418, 25)"
      ]
     },
     "execution_count": 25,
     "metadata": {},
     "output_type": "execute_result"
    }
   ],
   "source": [
    "positive_examples = binaryData['Embedding'][binaryData[use_column]].dropna().values \n",
    "positive_examples = np.stack( positive_examples )\n",
    "positive_examples.shape"
   ]
  },
  {
   "cell_type": "code",
   "execution_count": 26,
   "metadata": {},
   "outputs": [
    {
     "data": {
      "text/plain": [
       "(21300, 25)"
      ]
     },
     "execution_count": 26,
     "metadata": {},
     "output_type": "execute_result"
    }
   ],
   "source": [
    "negative_examples = np.array( binaryData['Embedding'][~binaryData[use_column]].dropna().values )\n",
    "negative_examples = np.stack( negative_examples )\n",
    "negative_examples.shape"
   ]
  },
  {
   "cell_type": "code",
   "execution_count": 27,
   "metadata": {},
   "outputs": [
    {
     "name": "stdout",
     "output_type": "stream",
     "text": [
      "(49718, 25) (49718,)\n"
     ]
    }
   ],
   "source": [
    "X = np.concatenate([positive_examples, negative_examples])\n",
    "y = np.concatenate([np.zeros(positive_examples.shape[0]) + 1, np.zeros(negative_examples.shape[0]) ])\n",
    "print(X.shape, y.shape)"
   ]
  },
  {
   "cell_type": "markdown",
   "metadata": {},
   "source": [
    "## Training"
   ]
  },
  {
   "cell_type": "code",
   "execution_count": 28,
   "metadata": {},
   "outputs": [
    {
     "name": "stdout",
     "output_type": "stream",
     "text": [
      "Train on 44746 samples, validate on 4972 samples\n",
      "Epoch 1/4\n",
      "44746/44746 [==============================] - 4s 99us/sample - loss: 5.5645 - accuracy: 0.6351 - val_loss: 15.2492 - val_accuracy: 0.0000e+00\n",
      "Epoch 2/4\n",
      "44746/44746 [==============================] - 4s 80us/sample - loss: 5.5645 - accuracy: 0.6351 - val_loss: 15.2492 - val_accuracy: 0.0000e+00\n",
      "Epoch 3/4\n",
      "44746/44746 [==============================] - 4s 83us/sample - loss: 5.5645 - accuracy: 0.6351 - val_loss: 15.2492 - val_accuracy: 0.0000e+00\n",
      "Epoch 4/4\n",
      "44746/44746 [==============================] - 4s 84us/sample - loss: 5.5645 - accuracy: 0.6351 - val_loss: 15.2492 - val_accuracy: 0.0000e+00\n"
     ]
    },
    {
     "data": {
      "text/plain": [
       "<tensorflow.python.keras.callbacks.History at 0x1380661fc08>"
      ]
     },
     "execution_count": 28,
     "metadata": {},
     "output_type": "execute_result"
    }
   ],
   "source": [
    "model.fit( x=X, y=y, validation_split=0.1, epochs = 4)"
   ]
  },
  {
   "cell_type": "code",
   "execution_count": null,
   "metadata": {},
   "outputs": [],
   "source": []
  }
 ],
 "metadata": {
  "kernelspec": {
   "display_name": "Python 3",
   "language": "python",
   "name": "python3"
  },
  "language_info": {
   "codemirror_mode": {
    "name": "ipython",
    "version": 3
   },
   "file_extension": ".py",
   "mimetype": "text/x-python",
   "name": "python",
   "nbconvert_exporter": "python",
   "pygments_lexer": "ipython3",
   "version": "3.7.9"
  }
 },
 "nbformat": 4,
 "nbformat_minor": 4
}
