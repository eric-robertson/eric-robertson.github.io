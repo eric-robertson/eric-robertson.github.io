{
 "cells": [
  {
   "cell_type": "code",
   "execution_count": 2,
   "metadata": {},
   "outputs": [],
   "source": [
    "import pandas as pd\n",
    "import math"
   ]
  },
  {
   "cell_type": "markdown",
   "metadata": {},
   "source": [
    "# Stock Data"
   ]
  },
  {
   "cell_type": "code",
   "execution_count": 3,
   "metadata": {},
   "outputs": [],
   "source": [
    "stock_data = pd.read_csv ( 'data/stocks/etfs/SPY.csv')\n",
    "stock_data['Date'] = pd.to_datetime(stock_data['Date'])\n",
    "stock_data['forward_gains'] = -stock_data['Adj Close'].diff( periods = -4)"
   ]
  },
  {
   "cell_type": "code",
   "execution_count": 4,
   "metadata": {},
   "outputs": [
    {
     "data": {
      "text/html": [
       "<div>\n",
       "<style scoped>\n",
       "    .dataframe tbody tr th:only-of-type {\n",
       "        vertical-align: middle;\n",
       "    }\n",
       "\n",
       "    .dataframe tbody tr th {\n",
       "        vertical-align: top;\n",
       "    }\n",
       "\n",
       "    .dataframe thead th {\n",
       "        text-align: right;\n",
       "    }\n",
       "</style>\n",
       "<table border=\"1\" class=\"dataframe\">\n",
       "  <thead>\n",
       "    <tr style=\"text-align: right;\">\n",
       "      <th></th>\n",
       "      <th>Date</th>\n",
       "      <th>Open</th>\n",
       "      <th>High</th>\n",
       "      <th>Low</th>\n",
       "      <th>Close</th>\n",
       "      <th>Adj Close</th>\n",
       "      <th>Volume</th>\n",
       "      <th>forward_gains</th>\n",
       "    </tr>\n",
       "  </thead>\n",
       "  <tbody>\n",
       "    <tr>\n",
       "      <th>0</th>\n",
       "      <td>1993-01-29</td>\n",
       "      <td>43.96875</td>\n",
       "      <td>43.96875</td>\n",
       "      <td>43.75000</td>\n",
       "      <td>43.93750</td>\n",
       "      <td>26.299288</td>\n",
       "      <td>1003200</td>\n",
       "      <td>0.635952</td>\n",
       "    </tr>\n",
       "    <tr>\n",
       "      <th>1</th>\n",
       "      <td>1993-02-01</td>\n",
       "      <td>43.96875</td>\n",
       "      <td>44.25000</td>\n",
       "      <td>43.96875</td>\n",
       "      <td>44.25000</td>\n",
       "      <td>26.486324</td>\n",
       "      <td>480500</td>\n",
       "      <td>0.430214</td>\n",
       "    </tr>\n",
       "    <tr>\n",
       "      <th>2</th>\n",
       "      <td>1993-02-02</td>\n",
       "      <td>44.21875</td>\n",
       "      <td>44.37500</td>\n",
       "      <td>44.12500</td>\n",
       "      <td>44.34375</td>\n",
       "      <td>26.542448</td>\n",
       "      <td>201300</td>\n",
       "      <td>0.374090</td>\n",
       "    </tr>\n",
       "    <tr>\n",
       "      <th>3</th>\n",
       "      <td>1993-02-03</td>\n",
       "      <td>44.40625</td>\n",
       "      <td>44.84375</td>\n",
       "      <td>44.37500</td>\n",
       "      <td>44.81250</td>\n",
       "      <td>26.822998</td>\n",
       "      <td>529400</td>\n",
       "      <td>-0.093508</td>\n",
       "    </tr>\n",
       "    <tr>\n",
       "      <th>4</th>\n",
       "      <td>1993-02-04</td>\n",
       "      <td>44.96875</td>\n",
       "      <td>45.09375</td>\n",
       "      <td>44.46875</td>\n",
       "      <td>45.00000</td>\n",
       "      <td>26.935240</td>\n",
       "      <td>531500</td>\n",
       "      <td>-0.168341</td>\n",
       "    </tr>\n",
       "  </tbody>\n",
       "</table>\n",
       "</div>"
      ],
      "text/plain": [
       "        Date      Open      High       Low     Close  Adj Close   Volume  \\\n",
       "0 1993-01-29  43.96875  43.96875  43.75000  43.93750  26.299288  1003200   \n",
       "1 1993-02-01  43.96875  44.25000  43.96875  44.25000  26.486324   480500   \n",
       "2 1993-02-02  44.21875  44.37500  44.12500  44.34375  26.542448   201300   \n",
       "3 1993-02-03  44.40625  44.84375  44.37500  44.81250  26.822998   529400   \n",
       "4 1993-02-04  44.96875  45.09375  44.46875  45.00000  26.935240   531500   \n",
       "\n",
       "   forward_gains  \n",
       "0       0.635952  \n",
       "1       0.430214  \n",
       "2       0.374090  \n",
       "3      -0.093508  \n",
       "4      -0.168341  "
      ]
     },
     "execution_count": 4,
     "metadata": {},
     "output_type": "execute_result"
    }
   ],
   "source": [
    "stock_data.head()"
   ]
  },
  {
   "cell_type": "markdown",
   "metadata": {},
   "source": [
    "# Reddit data"
   ]
  },
  {
   "cell_type": "code",
   "execution_count": 5,
   "metadata": {},
   "outputs": [],
   "source": [
    "import json"
   ]
  },
  {
   "cell_type": "code",
   "execution_count": 23,
   "metadata": {},
   "outputs": [],
   "source": [
    "post_data = []\n",
    "with open('data/reddit/SecurityAnalysis_submission.json', 'r') as file:\n",
    "    lines = file.read().split('\\n')\n",
    "    for line in lines:\n",
    "        if len(line) > 0:\n",
    "            post_data.append( json.loads( line ))"
   ]
  },
  {
   "cell_type": "code",
   "execution_count": 50,
   "metadata": {},
   "outputs": [],
   "source": [
    "cleaned_posts = [\n",
    "    { \n",
    "        \"title\" : data['title'], \n",
    "        \"url\" : data['full_link'], \n",
    "        \"score\" : data['score'], \n",
    "        \"text\" : data['selftext'] if 'selftext' in data else \"\",\n",
    "        \"date\" : datetime.datetime.fromtimestamp(data['created_utc'])\n",
    "    } for data in post_data\n",
    "]"
   ]
  },
  {
   "cell_type": "code",
   "execution_count": 51,
   "metadata": {},
   "outputs": [
    {
     "data": {
      "text/plain": [
       "{'title': 'Charlie Munger - The Art of Stock Picking [pdf]',\n",
       " 'url': 'https://www.reddit.com/r/SecurityAnalysis/comments/gq60u/charlie_munger_the_art_of_stock_picking_pdf/',\n",
       " 'score': 6,\n",
       " 'text': '',\n",
       " 'date': datetime.datetime(2011, 4, 14, 15, 51, 13)}"
      ]
     },
     "execution_count": 51,
     "metadata": {},
     "output_type": "execute_result"
    }
   ],
   "source": [
    "cleaned_posts[4]"
   ]
  },
  {
   "cell_type": "markdown",
   "metadata": {},
   "source": [
    "# Basic Sentiment over time"
   ]
  },
  {
   "cell_type": "code",
   "execution_count": null,
   "metadata": {},
   "outputs": [],
   "source": [
    "import nltk\n",
    "from nltk.sentiment.vader import SentimentIntensityAnalyzer\n",
    "sid = SentimentIntensityAnalyzer()\n",
    "sid.polarity_scores(article)"
   ]
  }
 ],
 "metadata": {
  "kernelspec": {
   "display_name": "Python 3",
   "language": "python",
   "name": "python3"
  },
  "language_info": {
   "codemirror_mode": {
    "name": "ipython",
    "version": 3
   },
   "file_extension": ".py",
   "mimetype": "text/x-python",
   "name": "python",
   "nbconvert_exporter": "python",
   "pygments_lexer": "ipython3",
   "version": "3.7.3"
  }
 },
 "nbformat": 4,
 "nbformat_minor": 4
}
